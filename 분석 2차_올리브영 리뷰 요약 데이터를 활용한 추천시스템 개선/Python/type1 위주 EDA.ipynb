{
 "cells": [
  {
   "cell_type": "code",
   "execution_count": 1,
   "metadata": {},
   "outputs": [],
   "source": [
    "import pickle\n",
    "import pandas as pd\n",
    "import matplotlib.pyplot as plt\n",
    "import seaborn as sns\n",
    "\n",
    "with open(\"data/product.pickle\", 'rb') as p:\n",
    "    product = pickle.load(p)\n",
    "with open(\"data/purchase.pickle\", 'rb') as p:\n",
    "    purchase = pickle.load(p)\n",
    "with open(\"data/user.pickle\", 'rb') as u:\n",
    "    user = pickle.load(u)"
   ]
  },
  {
   "cell_type": "code",
   "execution_count": 2,
   "metadata": {},
   "outputs": [
    {
     "data": {
      "text/plain": [
       "-       2196\n",
       "복합성     1382\n",
       "건성       815\n",
       "지성       427\n",
       "민감성      311\n",
       "트러블성     190\n",
       "중성        49\n",
       "약건성       39\n",
       "Name: type1, dtype: int64"
      ]
     },
     "execution_count": 2,
     "metadata": {},
     "output_type": "execute_result"
    }
   ],
   "source": [
    "user.type1.value_counts()"
   ]
  },
  {
   "cell_type": "code",
   "execution_count": 3,
   "metadata": {},
   "outputs": [
    {
     "data": {
      "text/plain": [
       "상품명       0\n",
       "카테고리      0\n",
       "브랜드       0\n",
       "가격        0\n",
       "용량        1\n",
       "주요사양      1\n",
       "전체 평점    28\n",
       "5점       28\n",
       "4점       28\n",
       "3점       28\n",
       "2점       28\n",
       "1점       66\n",
       "1_1피부    93\n",
       "1_2피부    93\n",
       "1_3피부    93\n",
       "2_1피부    93\n",
       "2_2피부    93\n",
       "2_3피부    93\n",
       "3_1피부    93\n",
       "3_2피부    93\n",
       "3_3피부    93\n",
       "dtype: int64"
      ]
     },
     "execution_count": 3,
     "metadata": {},
     "output_type": "execute_result"
    }
   ],
   "source": [
    "product.drop(['goodsno', 'url', '성분', '재구매', '한달이상사용'], axis=1, inplace=True)\n",
    "product.isna().sum() #건성(1,1)-복합성(1,2)-지성(1,3), 보습(2,1)-진정(2,2)-주름/미백(2,3), 순함(3,1)-보통(3,2)-자극(3,3) 순"
   ]
  },
  {
   "cell_type": "code",
   "execution_count": 4,
   "metadata": {},
   "outputs": [],
   "source": [
    "product['주요사양'] = product['주요사양'].replace(\"모듣\",\"모든\",regex=True) #오타 수정"
   ]
  },
  {
   "cell_type": "code",
   "execution_count": 5,
   "metadata": {},
   "outputs": [
    {
     "data": {
      "text/plain": [
       "(431, 21)"
      ]
     },
     "execution_count": 5,
     "metadata": {},
     "output_type": "execute_result"
    }
   ],
   "source": [
    "# 대부분의 상품 주요사양에 지성, 건성, 복합성, '모든'이 포함\n",
    "product[(product['주요사양'].str.contains(\"지성\") == True) | (product['주요사양'].str.contains(\"건성\") == True) | (product['주요사양'].str.contains(\"복합성\") == True) | (product['주요사양'].str.contains(\"모든\") == True)].shape"
   ]
  },
  {
   "cell_type": "code",
   "execution_count": 6,
   "metadata": {},
   "outputs": [
    {
     "data": {
      "text/plain": [
       "array(['지복합성 피부를 위한 워터타입 스킨케어 [ 2 in 1 ]', '민감성 복합성 지성', '지복합성 피부용',\n",
       "       '복합성 피부', '지복합성 피부 [모든 피부 타입]', '중ㆍ복합성피부', '건복합성'], dtype=object)"
      ]
     },
     "execution_count": 6,
     "metadata": {},
     "output_type": "execute_result"
    }
   ],
   "source": [
    "product[product['주요사양'].str.contains(\"복합성\") == True]['주요사양'].unique()"
   ]
  },
  {
   "cell_type": "code",
   "execution_count": 7,
   "metadata": {},
   "outputs": [],
   "source": [
    "# 지성, 복합성, 건성, 중성 : 하나의 컬럼에 표현\n",
    "import numpy as np\n",
    "product['주요사양'] = product['주요사양'].fillna('-')\n",
    "product['피부타입 사양'] = np.nan\n",
    "\n",
    "for i,j in enumerate(product['주요사양']):\n",
    "    #2개 이상의 피부타입이 적혀 있는 경우는 그대로 살리기\n",
    "    if (\"중ㆍ복합성\" in j):\n",
    "        product.loc[i, '피부타입 사양'] = '중복합성'\n",
    "    elif ('지복합성' in j):\n",
    "        product.loc[i, '피부타입 사양'] = \"지복합성\"   \n",
    "    elif ('건복합성' in j):\n",
    "        product.loc[i, '피부타입 사양'] = \"건복합성\"\n",
    "    elif ('중성, 지성' in j):\n",
    "        product.loc[i, '피부타입 사양'] = \"중지성\"\n",
    "    elif ('중,건성' in j) or (\"중건성\" in j):\n",
    "        product.loc[i, '피부타입 사양'] = \"중건성\"\n",
    "    elif \"지성\" in j:\n",
    "        product.loc[i, '피부타입 사양'] = '지성'\n",
    "    elif \"건성\" in j:\n",
    "        product.loc[i, '피부타입 사양'] = '건성'\n",
    "    elif \"중성\" in j:\n",
    "        product.loc[i, '피부타입 사양'] = '중성'\n",
    "    elif \"모든\" in j:\n",
    "        product.loc[i, '피부타입 사양'] = '모든 피부용'"
   ]
  },
  {
   "cell_type": "code",
   "execution_count": 8,
   "metadata": {},
   "outputs": [
    {
     "data": {
      "text/plain": [
       "모든 피부용    382\n",
       "지성         21\n",
       "건성         15\n",
       "지복합성        4\n",
       "중건성         4\n",
       "중지성         1\n",
       "중복합성        1\n",
       "건복합성        1\n",
       "Name: 피부타입 사양, dtype: int64"
      ]
     },
     "execution_count": 8,
     "metadata": {},
     "output_type": "execute_result"
    }
   ],
   "source": [
    "product[product['피부타입 사양'].isna()==False]['피부타입 사양'].value_counts()"
   ]
  },
  {
   "cell_type": "code",
   "execution_count": 9,
   "metadata": {},
   "outputs": [
    {
     "data": {
      "text/html": [
       "<div>\n",
       "<style scoped>\n",
       "    .dataframe tbody tr th:only-of-type {\n",
       "        vertical-align: middle;\n",
       "    }\n",
       "\n",
       "    .dataframe tbody tr th {\n",
       "        vertical-align: top;\n",
       "    }\n",
       "\n",
       "    .dataframe thead th {\n",
       "        text-align: right;\n",
       "    }\n",
       "</style>\n",
       "<table border=\"1\" class=\"dataframe\">\n",
       "  <thead>\n",
       "    <tr style=\"text-align: right;\">\n",
       "      <th></th>\n",
       "      <th>리뷰자</th>\n",
       "      <th>상품</th>\n",
       "      <th>평점</th>\n",
       "      <th>type1</th>\n",
       "      <th>피부타입 사양</th>\n",
       "    </tr>\n",
       "  </thead>\n",
       "  <tbody>\n",
       "    <tr>\n",
       "      <th>0</th>\n",
       "      <td>eHNCNmFVY1ladXNQV21xcS9zT0J1QT09</td>\n",
       "      <td>[대용량] 라운드랩 1025 독도 토너 (본품500ml+100ml 추가 증정)</td>\n",
       "      <td>3</td>\n",
       "      <td>지성</td>\n",
       "      <td>모든 피부용</td>\n",
       "    </tr>\n",
       "    <tr>\n",
       "      <th>1</th>\n",
       "      <td>ckN0NlJxTy9WU2IyMjZQWHQ3dWpzUT09</td>\n",
       "      <td>[대용량] 라운드랩 1025 독도 토너 (본품500ml+100ml 추가 증정)</td>\n",
       "      <td>5</td>\n",
       "      <td>건성</td>\n",
       "      <td>모든 피부용</td>\n",
       "    </tr>\n",
       "    <tr>\n",
       "      <th>2</th>\n",
       "      <td>U3Eyb2xHVytUcFVYajdSbkJVaUV3UT09</td>\n",
       "      <td>[대용량] 라운드랩 1025 독도 토너 (본품500ml+100ml 추가 증정)</td>\n",
       "      <td>5</td>\n",
       "      <td>민감성</td>\n",
       "      <td>모든 피부용</td>\n",
       "    </tr>\n",
       "    <tr>\n",
       "      <th>3</th>\n",
       "      <td>T3VnTkYrTnFocnkzdktxVVg3VFJuQT09</td>\n",
       "      <td>[대용량] 라운드랩 1025 독도 토너 (본품500ml+100ml 추가 증정)</td>\n",
       "      <td>5</td>\n",
       "      <td>복합성</td>\n",
       "      <td>모든 피부용</td>\n",
       "    </tr>\n",
       "    <tr>\n",
       "      <th>4</th>\n",
       "      <td>ekdrWEZHc1dYb2ZJTEpDVXI3Sm1adz09</td>\n",
       "      <td>라운드랩 1025 독도 로션 (본품200ml+50ml 추가 증정)</td>\n",
       "      <td>5</td>\n",
       "      <td>건성</td>\n",
       "      <td>모든 피부용</td>\n",
       "    </tr>\n",
       "  </tbody>\n",
       "</table>\n",
       "</div>"
      ],
      "text/plain": [
       "                                리뷰자  \\\n",
       "0  eHNCNmFVY1ladXNQV21xcS9zT0J1QT09   \n",
       "1  ckN0NlJxTy9WU2IyMjZQWHQ3dWpzUT09   \n",
       "2  U3Eyb2xHVytUcFVYajdSbkJVaUV3UT09   \n",
       "3  T3VnTkYrTnFocnkzdktxVVg3VFJuQT09   \n",
       "4  ekdrWEZHc1dYb2ZJTEpDVXI3Sm1adz09   \n",
       "\n",
       "                                            상품 평점 type1 피부타입 사양  \n",
       "0  [대용량] 라운드랩 1025 독도 토너 (본품500ml+100ml 추가 증정)  3    지성  모든 피부용  \n",
       "1  [대용량] 라운드랩 1025 독도 토너 (본품500ml+100ml 추가 증정)  5    건성  모든 피부용  \n",
       "2  [대용량] 라운드랩 1025 독도 토너 (본품500ml+100ml 추가 증정)  5   민감성  모든 피부용  \n",
       "3  [대용량] 라운드랩 1025 독도 토너 (본품500ml+100ml 추가 증정)  5   복합성  모든 피부용  \n",
       "4         라운드랩 1025 독도 로션 (본품200ml+50ml 추가 증정)  5    건성  모든 피부용  "
      ]
     },
     "execution_count": 9,
     "metadata": {},
     "output_type": "execute_result"
    }
   ],
   "source": [
    "#건성 사용자는 건성용 제품을 많이 샀을까? 평점을 어떻게 줬을까?\n",
    "# df : 리뷰자 | 리뷰자 피부 타입 | 상품명 | 상품 피부사양\n",
    "purchase2 = purchase[['리뷰자', '상품', '평점']].copy()\n",
    "purchase2 = purchase2.merge(user[['리뷰자', 'type1']], how = 'inner', on='리뷰자') #리뷰자, type1, 상품, 평점\n",
    "purchase2 = purchase2.merge(product[['상품명', '피부타입 사양']], how = 'left', left_on='상품', right_on='상품명')\n",
    "purchase2 = purchase2[(purchase2['피부타입 사양'].isna() == False) & (purchase2['type1'] != '-')].reset_index(drop=True)\n",
    "purchase2.drop(['상품명'], axis=1, inplace=True)\n",
    "purchase2.head()"
   ]
  },
  {
   "cell_type": "code",
   "execution_count": 10,
   "metadata": {},
   "outputs": [
    {
     "data": {
      "text/html": [
       "<div>\n",
       "<style scoped>\n",
       "    .dataframe tbody tr th:only-of-type {\n",
       "        vertical-align: middle;\n",
       "    }\n",
       "\n",
       "    .dataframe tbody tr th {\n",
       "        vertical-align: top;\n",
       "    }\n",
       "\n",
       "    .dataframe thead th {\n",
       "        text-align: right;\n",
       "    }\n",
       "</style>\n",
       "<table border=\"1\" class=\"dataframe\">\n",
       "  <thead>\n",
       "    <tr style=\"text-align: right;\">\n",
       "      <th></th>\n",
       "      <th>상품 사양</th>\n",
       "      <th>고객 피부</th>\n",
       "      <th>ratio</th>\n",
       "    </tr>\n",
       "  </thead>\n",
       "  <tbody>\n",
       "    <tr>\n",
       "      <th>0</th>\n",
       "      <td>건복합성</td>\n",
       "      <td>복합성</td>\n",
       "      <td>1.000000</td>\n",
       "    </tr>\n",
       "    <tr>\n",
       "      <th>1</th>\n",
       "      <td>건성</td>\n",
       "      <td>건성</td>\n",
       "      <td>0.362637</td>\n",
       "    </tr>\n",
       "    <tr>\n",
       "      <th>2</th>\n",
       "      <td>건성</td>\n",
       "      <td>민감성</td>\n",
       "      <td>0.087912</td>\n",
       "    </tr>\n",
       "    <tr>\n",
       "      <th>3</th>\n",
       "      <td>건성</td>\n",
       "      <td>복합성</td>\n",
       "      <td>0.351648</td>\n",
       "    </tr>\n",
       "    <tr>\n",
       "      <th>4</th>\n",
       "      <td>건성</td>\n",
       "      <td>약건성</td>\n",
       "      <td>0.021978</td>\n",
       "    </tr>\n",
       "  </tbody>\n",
       "</table>\n",
       "</div>"
      ],
      "text/plain": [
       "  상품 사양 고객 피부     ratio\n",
       "0  건복합성   복합성  1.000000\n",
       "1    건성    건성  0.362637\n",
       "2    건성   민감성  0.087912\n",
       "3    건성   복합성  0.351648\n",
       "4    건성   약건성  0.021978"
      ]
     },
     "execution_count": 10,
     "metadata": {},
     "output_type": "execute_result"
    }
   ],
   "source": [
    "df_sum = purchase2.groupby('피부타입 사양').agg({'리뷰자':'count'})\n",
    "df_count = purchase2.groupby(['피부타입 사양','type1']).agg({'리뷰자':'count'})\n",
    "df_ratio = df_count / df_sum\n",
    "df_ratio.reset_index(drop=False, inplace=True)\n",
    "df_ratio.columns = ['상품 사양', '고객 피부', 'ratio']\n",
    "df_ratio.head()"
   ]
  },
  {
   "cell_type": "code",
   "execution_count": 11,
   "metadata": {},
   "outputs": [
    {
     "name": "stderr",
     "output_type": "stream",
     "text": [
      "C:\\Users\\User\\AppData\\Local\\Temp\\ipykernel_12152\\1653213761.py:5: MatplotlibDeprecationWarning: The get_fontconfig_fonts function was deprecated in Matplotlib 3.5 and will be removed two minor releases later.\n",
      "  fm.get_fontconfig_fonts()\n"
     ]
    }
   ],
   "source": [
    "import matplotlib\n",
    "import matplotlib.font_manager as fm\n",
    "\n",
    "#한글 폰트 세팅\n",
    "fm.get_fontconfig_fonts()\n",
    "font_lc = r'C:\\Windows\\Fonts\\malgun.ttf'\n",
    "font_name = fm.FontProperties(fname=font_lc).get_name()\n",
    "matplotlib.rc('font', family=font_name)"
   ]
  },
  {
   "cell_type": "code",
   "execution_count": 12,
   "metadata": {},
   "outputs": [
    {
     "data": {
      "image/png": "[encoded data removed]",
      "text/plain": [
       "<Figure size 1000x600 with 1 Axes>"
      ]
     },
     "metadata": {},
     "output_type": "display_data"
    }
   ],
   "source": [
    "#상품사양별 고객 피부타입 비율\n",
    "plt.figure(figsize=(10,6))\n",
    "sns.barplot(x='상품 사양', y='ratio', hue='고객 피부', data=df_ratio)\n",
    "plt.title(\"상품 사양별 고객 피부 비율 비교\")\n",
    "plt.show() #복합성은 모든 사양의 상품에서 높은 비율"
   ]
  },
  {
   "cell_type": "code",
   "execution_count": 14,
   "metadata": {},
   "outputs": [
    {
     "data": {
      "text/html": [
       "<div>\n",
       "<style scoped>\n",
       "    .dataframe tbody tr th:only-of-type {\n",
       "        vertical-align: middle;\n",
       "    }\n",
       "\n",
       "    .dataframe tbody tr th {\n",
       "        vertical-align: top;\n",
       "    }\n",
       "\n",
       "    .dataframe thead th {\n",
       "        text-align: right;\n",
       "    }\n",
       "</style>\n",
       "<table border=\"1\" class=\"dataframe\">\n",
       "  <thead>\n",
       "    <tr style=\"text-align: right;\">\n",
       "      <th></th>\n",
       "      <th>상품 사양</th>\n",
       "      <th>고객 피부</th>\n",
       "      <th>평점 평균</th>\n",
       "    </tr>\n",
       "  </thead>\n",
       "  <tbody>\n",
       "    <tr>\n",
       "      <th>0</th>\n",
       "      <td>건복합성</td>\n",
       "      <td>복합성</td>\n",
       "      <td>4.000000</td>\n",
       "    </tr>\n",
       "    <tr>\n",
       "      <th>1</th>\n",
       "      <td>건성</td>\n",
       "      <td>건성</td>\n",
       "      <td>4.636364</td>\n",
       "    </tr>\n",
       "    <tr>\n",
       "      <th>2</th>\n",
       "      <td>건성</td>\n",
       "      <td>민감성</td>\n",
       "      <td>4.500000</td>\n",
       "    </tr>\n",
       "    <tr>\n",
       "      <th>3</th>\n",
       "      <td>건성</td>\n",
       "      <td>복합성</td>\n",
       "      <td>4.718750</td>\n",
       "    </tr>\n",
       "    <tr>\n",
       "      <th>4</th>\n",
       "      <td>건성</td>\n",
       "      <td>지성</td>\n",
       "      <td>4.625000</td>\n",
       "    </tr>\n",
       "  </tbody>\n",
       "</table>\n",
       "</div>"
      ],
      "text/plain": [
       "  상품 사양 고객 피부     평점 평균\n",
       "0  건복합성   복합성  4.000000\n",
       "1    건성    건성  4.636364\n",
       "2    건성   민감성  4.500000\n",
       "3    건성   복합성  4.718750\n",
       "4    건성    지성  4.625000"
      ]
     },
     "execution_count": 14,
     "metadata": {},
     "output_type": "execute_result"
    }
   ],
   "source": [
    "#type1별 피부타입 사양 평점 barplot\n",
    "purchase2.평점 = purchase2.평점.astype(float)\n",
    "df_temp = purchase2.groupby(['피부타입 사양','type1']).agg({'평점':'mean'})\n",
    "df_temp.reset_index(drop=False, inplace=True)\n",
    "df_temp.columns = ['상품 사양', '고객 피부', '평점 평균']\n",
    "df_temp = df_temp[df_temp['평점 평균'] != 5].reset_index(drop=True) #평균이 5점인 경우는 제외\n",
    "df_temp.head()"
   ]
  },
  {
   "cell_type": "code",
   "execution_count": 15,
   "metadata": {},
   "outputs": [
    {
     "data": {
      "image/png": "[encoded data removed]",
      "text/plain": [
       "<Figure size 1000x600 with 1 Axes>"
      ]
     },
     "metadata": {},
     "output_type": "display_data"
    }
   ],
   "source": [
    "#상품사양별 고객 피부타입 평균 평점\n",
    "plt.figure(figsize=(10,6))\n",
    "sns.barplot(x='상품 사양', y='평점 평균', hue='고객 피부', data=df_temp)\n",
    "plt.title(\"상품 사양별 고객 피부별 평균 평점 비교\")\n",
    "plt.legend(loc = 'upper left')\n",
    "plt.ylim(2.5, 5.5)\n",
    "plt.show() #흠 좀 보기 어렵다"
   ]
  },
  {
   "cell_type": "code",
   "execution_count": 75,
   "metadata": {},
   "outputs": [],
   "source": [
    "#제품 상세 정보 전처리 : 결측값 처리, 변수 타입 변경\n",
    "for i in range(1,4):\n",
    "    product['1_{}피부'.format(i)] = product['1_{}피부'.format(i)].fillna('0%')\n",
    "    product['1_{}피부'.format(i)] = product['1_{}피부'.format(i)].replace(\"%\",\"\", regex=True)\n",
    "    product['1_{}피부'.format(i)] = product['1_{}피부'.format(i)].astype(float)"
   ]
  },
  {
   "cell_type": "code",
   "execution_count": 77,
   "metadata": {},
   "outputs": [
    {
     "data": {
      "text/html": [
       "<div>\n",
       "<style scoped>\n",
       "    .dataframe tbody tr th:only-of-type {\n",
       "        vertical-align: middle;\n",
       "    }\n",
       "\n",
       "    .dataframe tbody tr th {\n",
       "        vertical-align: top;\n",
       "    }\n",
       "\n",
       "    .dataframe thead th {\n",
       "        text-align: right;\n",
       "    }\n",
       "</style>\n",
       "<table border=\"1\" class=\"dataframe\">\n",
       "  <thead>\n",
       "    <tr style=\"text-align: right;\">\n",
       "      <th></th>\n",
       "      <th>상품명</th>\n",
       "      <th>피부타입 사양</th>\n",
       "      <th>리뷰</th>\n",
       "      <th>비율</th>\n",
       "    </tr>\n",
       "  </thead>\n",
       "  <tbody>\n",
       "    <tr>\n",
       "      <th>0</th>\n",
       "      <td>우르오스 스킨로션 200ml</td>\n",
       "      <td>지복합성</td>\n",
       "      <td>건성</td>\n",
       "      <td>16.0</td>\n",
       "    </tr>\n",
       "    <tr>\n",
       "      <th>1</th>\n",
       "      <td>우르오스 스킨밀크 200ml</td>\n",
       "      <td>중건성</td>\n",
       "      <td>건성</td>\n",
       "      <td>35.0</td>\n",
       "    </tr>\n",
       "    <tr>\n",
       "      <th>2</th>\n",
       "      <td>[대용량] 라운드랩 1025 독도 토너 (본품500ml+100ml 추가 증정)</td>\n",
       "      <td>모든 피부용</td>\n",
       "      <td>건성</td>\n",
       "      <td>22.0</td>\n",
       "    </tr>\n",
       "    <tr>\n",
       "      <th>3</th>\n",
       "      <td>에스트라 아토베리어365 로션 150ml 기획 (+하이드로에센스 25ml+무기자차선...</td>\n",
       "      <td>모든 피부용</td>\n",
       "      <td>건성</td>\n",
       "      <td>46.0</td>\n",
       "    </tr>\n",
       "    <tr>\n",
       "      <th>4</th>\n",
       "      <td>[단독기획] 토리든 다이브인 저분자 히알루론산 토너 300ml 기획(+100ml 추...</td>\n",
       "      <td>모든 피부용</td>\n",
       "      <td>건성</td>\n",
       "      <td>25.0</td>\n",
       "    </tr>\n",
       "  </tbody>\n",
       "</table>\n",
       "</div>"
      ],
      "text/plain": [
       "                                                 상품명 피부타입 사양  리뷰    비율\n",
       "0                                    우르오스 스킨로션 200ml    지복합성  건성  16.0\n",
       "1                                    우르오스 스킨밀크 200ml     중건성  건성  35.0\n",
       "2        [대용량] 라운드랩 1025 독도 토너 (본품500ml+100ml 추가 증정)  모든 피부용  건성  22.0\n",
       "3  에스트라 아토베리어365 로션 150ml 기획 (+하이드로에센스 25ml+무기자차선...  모든 피부용  건성  46.0\n",
       "4  [단독기획] 토리든 다이브인 저분자 히알루론산 토너 300ml 기획(+100ml 추...  모든 피부용  건성  25.0"
      ]
     },
     "execution_count": 77,
     "metadata": {},
     "output_type": "execute_result"
    }
   ],
   "source": [
    "#시각화용 데이터프레임 만들기1\n",
    "product2 = pd.melt(product, id_vars=['상품명', '피부타입 사양'], value_vars=['1_1피부', '1_2피부', '1_3피부'], value_name='비율', var_name='리뷰')\n",
    "product2['피부타입 사양'] = product2['피부타입 사양'].fillna('정보 없음')\n",
    "\n",
    "#건성(1,1)-복합성(1,2)-지성(1,3)\n",
    "product2['리뷰'] = product2['리뷰'].replace('1_1피부', '건성', regex=True)\n",
    "product2['리뷰'] = product2['리뷰'].replace('1_2피부', '복합성', regex=True)\n",
    "product2['리뷰'] = product2['리뷰'].replace('1_3피부', '지성', regex=True)\n",
    "product2.head()"
   ]
  },
  {
   "cell_type": "code",
   "execution_count": 78,
   "metadata": {},
   "outputs": [
    {
     "data": {
      "image/png": "[encoded data removed]",
      "text/plain": [
       "<Figure size 1000x600 with 1 Axes>"
      ]
     },
     "metadata": {},
     "output_type": "display_data"
    }
   ],
   "source": [
    "#피부타입 사양별 리뷰 비교\n",
    "plt.figure(figsize=(10,6))\n",
    "sns.barplot(x='피부타입 사양', y='비율', hue='리뷰', data=product2, errorbar=None)\n",
    "plt.title(\"제품사양별 사용자 리뷰 비교\")\n",
    "plt.ylim(0,70)\n",
    "plt.ylabel('리뷰 비율(%)')\n",
    "plt.show() #중지성, 중복합성, 건복합성 상품이 복합성에 good\n",
    "# 건성과 지성은 사양에 하나만 쓰여있는 경우에 대해 좋게 평가됨"
   ]
  },
  {
   "cell_type": "code",
   "execution_count": null,
   "metadata": {},
   "outputs": [],
   "source": []
  }
 ],
 "metadata": {
  "kernelspec": {
   "display_name": "base",
   "language": "python",
   "name": "python3"
  },
  "language_info": {
   "codemirror_mode": {
    "name": "ipython",
    "version": 3
   },
   "file_extension": ".py",
   "mimetype": "text/x-python",
   "name": "python",
   "nbconvert_exporter": "python",
   "pygments_lexer": "ipython3",
   "version": "3.9.12"
  },
  "orig_nbformat": 4,
  "vscode": {
   "interpreter": {
    "hash": "f08154012ddadd8e950e6e9e035c7a7b32c136e7647e9b7c77e02eb723a8bedb"
   }
  }
 },
 "nbformat": 4,
 "nbformat_minor": 2
}
