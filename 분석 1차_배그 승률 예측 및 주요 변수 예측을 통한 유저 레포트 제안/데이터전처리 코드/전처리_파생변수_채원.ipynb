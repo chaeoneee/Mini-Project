{
  "nbformat": 4,
  "nbformat_minor": 0,
  "metadata": {
    "colab": {
      "provenance": []
    },
    "kernelspec": {
      "name": "python3",
      "display_name": "Python 3"
    },
    "language_info": {
      "name": "python"
    }
  },
  "cells": [
    {
      "cell_type": "code",
      "execution_count": 1,
      "metadata": {
        "colab": {
          "base_uri": "https://localhost:8080/"
        },
        "id": "S44ldVU0q0nn",
        "outputId": "0bc5853e-a92d-4627-9b72-cc553ba49653"
      },
      "outputs": [
        {
          "output_type": "stream",
          "name": "stdout",
          "text": [
            "Mounted at /content/drive\n"
          ]
        }
      ],
      "source": [
        "import os\n",
        "import numpy as np\n",
        "import pandas as pd\n",
        "from google.colab import drive\n",
        "\n",
        "# For Google Colab Mounting\n",
        "drive.mount('/content/drive')\n",
        "os.chdir(\"/content/drive/MyDrive\")"
      ]
    },
    {
      "cell_type": "code",
      "source": [
        "import pandas as pd\n",
        "import numpy as np\n",
        "import matplotlib.pyplot as plt\n",
        "import seaborn as sns\n",
        "\n",
        "import os\n",
        "\n",
        "train = pd.read_csv(\"train_V2.csv\")"
      ],
      "metadata": {
        "id": "ADd-LXjcq2rh"
      },
      "execution_count": 2,
      "outputs": []
    },
    {
      "cell_type": "code",
      "source": [
        "df = train.dropna()"
      ],
      "metadata": {
        "id": "Cc5_Z2uEq2tg"
      },
      "execution_count": 3,
      "outputs": []
    },
    {
      "cell_type": "markdown",
      "source": [
        "# 파생 변수 생성"
      ],
      "metadata": {
        "id": "j5owBIzKu80c"
      }
    },
    {
      "cell_type": "code",
      "source": [
        "# walk, ride, swim 중 하나만 했을 수 있어서 totalDistance 변수 생성\n",
        "df['totalDistance'] = df['walkDistance'] + df['rideDistance'] + df['swimDistance']"
      ],
      "metadata": {
        "id": "3xlg8DUwrwDQ"
      },
      "execution_count": null,
      "outputs": []
    },
    {
      "cell_type": "code",
      "source": [
        "# heals + boosts 값만\n",
        "df['total_heals'] = df['heals'] + df['boosts']"
      ],
      "metadata": {
        "id": "5_BajukLuAhS"
      },
      "execution_count": null,
      "outputs": []
    },
    {
      "cell_type": "code",
      "source": [
        "# items = heals + boosts + weapon\n",
        "df['items'] = df['heals'] + df['boosts'] +df['weaponsAcquired']"
      ],
      "metadata": {
        "id": "2Pq4B3v8tj16"
      },
      "execution_count": null,
      "outputs": []
    },
    {
      "cell_type": "code",
      "source": [
        "# teamwork = 아군을 보조 + 부활\n",
        "df['teamwork'] = df['assists'] + df['revives']"
      ],
      "metadata": {
        "id": "bO8PY7uuuJcN"
      },
      "execution_count": null,
      "outputs": []
    },
    {
      "cell_type": "code",
      "source": [
        "# agg = df.groupby('groupId').size().to_frame('players_in_team')\n",
        "# df = df.merge(agg, on='groupId')"
      ],
      "metadata": {
        "id": "pQp1UO_ftj40"
      },
      "execution_count": null,
      "outputs": []
    },
    {
      "cell_type": "code",
      "source": [
        "# kill 대비 headshot\n",
        "df['headshots_over_kills'] = df['headshotKills'] / df['kills']\n",
        "df['headshots_over_kills'] = df['headshots_over_kills'].fillna(0)"
      ],
      "metadata": {
        "id": "BnHE3f8utj7d"
      },
      "execution_count": null,
      "outputs": []
    },
    {
      "cell_type": "code",
      "source": [
        "# (kill횟수 순위) / (최악의 순위)\n",
        "df['killPlace_over_maxPlace'] = df['killPlace'] / df['maxPlace']"
      ],
      "metadata": {
        "id": "j6q_DFi8tj-1"
      },
      "execution_count": null,
      "outputs": []
    },
    {
      "cell_type": "code",
      "source": [
        "# heals 대비 걸은 거리\n",
        "df['walkDistance_over_heals'] = df['walkDistance'] / df['heals']\n",
        "df['walkDistance_over_heals'] = df['walkDistance_over_heals'].replace(np.inf, 0)"
      ],
      "metadata": {
        "id": "EyYOL095tkBn"
      },
      "execution_count": null,
      "outputs": []
    },
    {
      "cell_type": "code",
      "source": [
        "# kill 대비 걸은 거리\n",
        "df['workDistance_over_kills'] = df['walkDistance'] / df['kills']\n",
        "df['workDistance_over_kills'] = df['workDistance_over_kills'].fillna(0)\n",
        "df['workDistance_over_kills'] = df['workDistance_over_kills'].replace(np.inf, 0)"
      ],
      "metadata": {
        "id": "FJ8lS0dHtr5e"
      },
      "execution_count": null,
      "outputs": []
    },
    {
      "cell_type": "code",
      "source": [
        "# matchId 별 player 수\n",
        "df['cnt_per_matchid'] = df.groupby('matchId').Id.transform('count')"
      ],
      "metadata": {
        "colab": {
          "base_uri": "https://localhost:8080/"
        },
        "id": "ajxx8pYBvO2F",
        "outputId": "284aa6ce-d5eb-4f31-aa81-f9f2fd5397cc"
      },
      "execution_count": 19,
      "outputs": [
        {
          "output_type": "stream",
          "name": "stderr",
          "text": [
            "<ipython-input-19-4dd70c2beb68>:1: SettingWithCopyWarning: \n",
            "A value is trying to be set on a copy of a slice from a DataFrame.\n",
            "Try using .loc[row_indexer,col_indexer] = value instead\n",
            "\n",
            "See the caveats in the documentation: https://pandas.pydata.org/pandas-docs/stable/user_guide/indexing.html#returning-a-view-versus-a-copy\n",
            "  df['cnt_per_matchid'] = df.groupby('matchId').Id.transform('count')\n"
          ]
        },
        {
          "output_type": "execute_result",
          "data": {
            "text/plain": [
              "0          96\n",
              "1          91\n",
              "2          98\n",
              "3          91\n",
              "4          97\n",
              "           ..\n",
              "4446961    94\n",
              "4446962    93\n",
              "4446963    98\n",
              "4446964    94\n",
              "4446965    98\n",
              "Name: cnt_per_matchid, Length: 4446965, dtype: int64"
            ]
          },
          "metadata": {},
          "execution_count": 19
        }
      ]
    },
    {
      "cell_type": "code",
      "source": [
        "# match 내 player수 대비 kill 수\n",
        "df['kills_over_match_cnt']=df['kills']/df['cnt_per_matchid']"
      ],
      "metadata": {
        "colab": {
          "base_uri": "https://localhost:8080/"
        },
        "id": "a1Xt3OxOvOza",
        "outputId": "2ce1cd6a-bee6-4175-fed1-63341bf0c4d2"
      },
      "execution_count": 21,
      "outputs": [
        {
          "output_type": "stream",
          "name": "stderr",
          "text": [
            "<ipython-input-21-8333db7b051b>:1: SettingWithCopyWarning: \n",
            "A value is trying to be set on a copy of a slice from a DataFrame.\n",
            "Try using .loc[row_indexer,col_indexer] = value instead\n",
            "\n",
            "See the caveats in the documentation: https://pandas.pydata.org/pandas-docs/stable/user_guide/indexing.html#returning-a-view-versus-a-copy\n",
            "  df['kills_over_match_cnt']=df['kills']/df['cnt_per_matchid']\n"
          ]
        },
        {
          "output_type": "execute_result",
          "data": {
            "text/plain": [
              "0"
            ]
          },
          "metadata": {},
          "execution_count": 21
        }
      ]
    }
  ]
}