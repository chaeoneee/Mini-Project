{
 "cells": [
  {
   "cell_type": "markdown",
   "id": "8a4d8d47",
   "metadata": {},
   "source": [
    "## 1. 데이터 불러오기"
   ]
  },
  {
   "cell_type": "code",
   "execution_count": null,
   "id": "da928bee",
   "metadata": {},
   "outputs": [],
   "source": [
    "import os\n",
    "import numpy as np\n",
    "import pandas as pd\n",
    "from google.colab import drive\n",
    "\n",
    "# For Google Colab Mounting\n",
    "drive.mount('/content/drive')\n",
    "os.chdir(\"/content/drive/MyDrive/BOAZ\")"
   ]
  },
  {
   "cell_type": "code",
   "execution_count": 5,
   "id": "dbc774a9",
   "metadata": {},
   "outputs": [],
   "source": [
    "import pandas as pd\n",
    "import numpy as np\n",
    "import matplotlib.pyplot as plt\n",
    "import seaborn as sns\n",
    "\n",
    "import os\n",
    "\n",
    "train = pd.read_csv(\"final.csv\")"
   ]
  },
  {
   "cell_type": "code",
   "execution_count": 11,
   "id": "14358246",
   "metadata": {},
   "outputs": [
    {
     "data": {
      "text/html": [
       "<div>\n",
       "<style scoped>\n",
       "    .dataframe tbody tr th:only-of-type {\n",
       "        vertical-align: middle;\n",
       "    }\n",
       "\n",
       "    .dataframe tbody tr th {\n",
       "        vertical-align: top;\n",
       "    }\n",
       "\n",
       "    .dataframe thead th {\n",
       "        text-align: right;\n",
       "    }\n",
       "</style>\n",
       "<table border=\"1\" class=\"dataframe\">\n",
       "  <thead>\n",
       "    <tr style=\"text-align: right;\">\n",
       "      <th></th>\n",
       "      <th>boosts</th>\n",
       "      <th>damageDealt</th>\n",
       "      <th>headshotKills</th>\n",
       "      <th>heals</th>\n",
       "      <th>killPlace</th>\n",
       "      <th>kills</th>\n",
       "      <th>killStreaks</th>\n",
       "      <th>longestKill</th>\n",
       "      <th>maxPlace</th>\n",
       "      <th>rideDistance</th>\n",
       "      <th>roadKills</th>\n",
       "      <th>swimDistance</th>\n",
       "      <th>vehicleDestroys</th>\n",
       "      <th>walkDistance</th>\n",
       "      <th>weaponsAcquired</th>\n",
       "      <th>winPlacePerc</th>\n",
       "      <th>totalDistance</th>\n",
       "      <th>cnt_per_matchid</th>\n",
       "      <th>total_heals</th>\n",
       "      <th>items</th>\n",
       "      <th>headshots_over_kills</th>\n",
       "      <th>killPlace_over_maxPlace</th>\n",
       "      <th>walkDistance_over_heals</th>\n",
       "      <th>workDistance_over_kills</th>\n",
       "      <th>kills_over_match_cnt</th>\n",
       "    </tr>\n",
       "  </thead>\n",
       "  <tbody>\n",
       "    <tr>\n",
       "      <th>0</th>\n",
       "      <td>0</td>\n",
       "      <td>100.000</td>\n",
       "      <td>0</td>\n",
       "      <td>0</td>\n",
       "      <td>45</td>\n",
       "      <td>1</td>\n",
       "      <td>1</td>\n",
       "      <td>58.53</td>\n",
       "      <td>97</td>\n",
       "      <td>0.0</td>\n",
       "      <td>0</td>\n",
       "      <td>0.00</td>\n",
       "      <td>0</td>\n",
       "      <td>49.75</td>\n",
       "      <td>2</td>\n",
       "      <td>0.1875</td>\n",
       "      <td>49.75</td>\n",
       "      <td>97</td>\n",
       "      <td>0</td>\n",
       "      <td>2</td>\n",
       "      <td>0.00</td>\n",
       "      <td>0.463918</td>\n",
       "      <td>0.00000</td>\n",
       "      <td>49.75</td>\n",
       "      <td>0.010309</td>\n",
       "    </tr>\n",
       "    <tr>\n",
       "      <th>1</th>\n",
       "      <td>0</td>\n",
       "      <td>8.538</td>\n",
       "      <td>0</td>\n",
       "      <td>0</td>\n",
       "      <td>48</td>\n",
       "      <td>0</td>\n",
       "      <td>0</td>\n",
       "      <td>0.00</td>\n",
       "      <td>96</td>\n",
       "      <td>2004.0</td>\n",
       "      <td>0</td>\n",
       "      <td>0.00</td>\n",
       "      <td>0</td>\n",
       "      <td>1089.00</td>\n",
       "      <td>6</td>\n",
       "      <td>0.7368</td>\n",
       "      <td>3093.00</td>\n",
       "      <td>96</td>\n",
       "      <td>0</td>\n",
       "      <td>6</td>\n",
       "      <td>0.00</td>\n",
       "      <td>0.500000</td>\n",
       "      <td>0.00000</td>\n",
       "      <td>0.00</td>\n",
       "      <td>0.000000</td>\n",
       "    </tr>\n",
       "    <tr>\n",
       "      <th>2</th>\n",
       "      <td>1</td>\n",
       "      <td>324.200</td>\n",
       "      <td>1</td>\n",
       "      <td>5</td>\n",
       "      <td>5</td>\n",
       "      <td>4</td>\n",
       "      <td>1</td>\n",
       "      <td>49.83</td>\n",
       "      <td>97</td>\n",
       "      <td>1228.0</td>\n",
       "      <td>0</td>\n",
       "      <td>76.84</td>\n",
       "      <td>0</td>\n",
       "      <td>2050.00</td>\n",
       "      <td>6</td>\n",
       "      <td>0.8750</td>\n",
       "      <td>3354.84</td>\n",
       "      <td>97</td>\n",
       "      <td>6</td>\n",
       "      <td>12</td>\n",
       "      <td>0.25</td>\n",
       "      <td>0.051546</td>\n",
       "      <td>410.00000</td>\n",
       "      <td>512.50</td>\n",
       "      <td>0.041237</td>\n",
       "    </tr>\n",
       "    <tr>\n",
       "      <th>3</th>\n",
       "      <td>3</td>\n",
       "      <td>254.300</td>\n",
       "      <td>0</td>\n",
       "      <td>12</td>\n",
       "      <td>13</td>\n",
       "      <td>2</td>\n",
       "      <td>1</td>\n",
       "      <td>36.00</td>\n",
       "      <td>96</td>\n",
       "      <td>2367.0</td>\n",
       "      <td>0</td>\n",
       "      <td>15.29</td>\n",
       "      <td>0</td>\n",
       "      <td>1787.00</td>\n",
       "      <td>3</td>\n",
       "      <td>0.8211</td>\n",
       "      <td>4169.29</td>\n",
       "      <td>96</td>\n",
       "      <td>15</td>\n",
       "      <td>18</td>\n",
       "      <td>0.00</td>\n",
       "      <td>0.135417</td>\n",
       "      <td>148.91667</td>\n",
       "      <td>893.50</td>\n",
       "      <td>0.020833</td>\n",
       "    </tr>\n",
       "    <tr>\n",
       "      <th>4</th>\n",
       "      <td>0</td>\n",
       "      <td>136.900</td>\n",
       "      <td>0</td>\n",
       "      <td>0</td>\n",
       "      <td>37</td>\n",
       "      <td>1</td>\n",
       "      <td>1</td>\n",
       "      <td>22.83</td>\n",
       "      <td>96</td>\n",
       "      <td>0.0</td>\n",
       "      <td>0</td>\n",
       "      <td>0.00</td>\n",
       "      <td>0</td>\n",
       "      <td>270.70</td>\n",
       "      <td>1</td>\n",
       "      <td>0.3474</td>\n",
       "      <td>270.70</td>\n",
       "      <td>96</td>\n",
       "      <td>0</td>\n",
       "      <td>1</td>\n",
       "      <td>0.00</td>\n",
       "      <td>0.385417</td>\n",
       "      <td>0.00000</td>\n",
       "      <td>270.70</td>\n",
       "      <td>0.010417</td>\n",
       "    </tr>\n",
       "  </tbody>\n",
       "</table>\n",
       "</div>"
      ],
      "text/plain": [
       "   boosts  damageDealt  headshotKills  heals  killPlace  kills  killStreaks  \\\n",
       "0       0      100.000              0      0         45      1            1   \n",
       "1       0        8.538              0      0         48      0            0   \n",
       "2       1      324.200              1      5          5      4            1   \n",
       "3       3      254.300              0     12         13      2            1   \n",
       "4       0      136.900              0      0         37      1            1   \n",
       "\n",
       "   longestKill  maxPlace  rideDistance  roadKills  swimDistance  \\\n",
       "0        58.53        97           0.0          0          0.00   \n",
       "1         0.00        96        2004.0          0          0.00   \n",
       "2        49.83        97        1228.0          0         76.84   \n",
       "3        36.00        96        2367.0          0         15.29   \n",
       "4        22.83        96           0.0          0          0.00   \n",
       "\n",
       "   vehicleDestroys  walkDistance  weaponsAcquired  winPlacePerc  \\\n",
       "0                0         49.75                2        0.1875   \n",
       "1                0       1089.00                6        0.7368   \n",
       "2                0       2050.00                6        0.8750   \n",
       "3                0       1787.00                3        0.8211   \n",
       "4                0        270.70                1        0.3474   \n",
       "\n",
       "   totalDistance  cnt_per_matchid  total_heals  items  headshots_over_kills  \\\n",
       "0          49.75               97            0      2                  0.00   \n",
       "1        3093.00               96            0      6                  0.00   \n",
       "2        3354.84               97            6     12                  0.25   \n",
       "3        4169.29               96           15     18                  0.00   \n",
       "4         270.70               96            0      1                  0.00   \n",
       "\n",
       "   killPlace_over_maxPlace  walkDistance_over_heals  workDistance_over_kills  \\\n",
       "0                 0.463918                  0.00000                    49.75   \n",
       "1                 0.500000                  0.00000                     0.00   \n",
       "2                 0.051546                410.00000                   512.50   \n",
       "3                 0.135417                148.91667                   893.50   \n",
       "4                 0.385417                  0.00000                   270.70   \n",
       "\n",
       "   kills_over_match_cnt  \n",
       "0              0.010309  \n",
       "1              0.000000  \n",
       "2              0.041237  \n",
       "3              0.020833  \n",
       "4              0.010417  "
      ]
     },
     "execution_count": 11,
     "metadata": {},
     "output_type": "execute_result"
    }
   ],
   "source": [
    "df = train.drop('Unnamed: 0',axis=1)\n",
    "df.head()"
   ]
  },
  {
   "cell_type": "code",
   "execution_count": 7,
   "id": "21e03619",
   "metadata": {},
   "outputs": [
    {
     "data": {
      "text/plain": [
       "(702414, 25)"
      ]
     },
     "execution_count": 7,
     "metadata": {},
     "output_type": "execute_result"
    }
   ],
   "source": [
    "df.shape"
   ]
  },
  {
   "cell_type": "code",
   "execution_count": 8,
   "id": "0ff3d1aa",
   "metadata": {},
   "outputs": [],
   "source": [
    "pd.set_option('display.max_columns', None)"
   ]
  },
  {
   "cell_type": "code",
   "execution_count": 25,
   "id": "5422d003",
   "metadata": {},
   "outputs": [],
   "source": [
    "solo_model = df"
   ]
  },
  {
   "cell_type": "code",
   "execution_count": 26,
   "id": "9c680df6",
   "metadata": {
    "scrolled": false
   },
   "outputs": [
    {
     "data": {
      "text/plain": [
       "boosts                         0\n",
       "damageDealt                    0\n",
       "headshotKills                  0\n",
       "heals                          0\n",
       "killPlace                      0\n",
       "kills                          0\n",
       "killStreaks                    0\n",
       "longestKill                    0\n",
       "maxPlace                       0\n",
       "rideDistance                   0\n",
       "roadKills                      0\n",
       "swimDistance                   0\n",
       "vehicleDestroys                0\n",
       "walkDistance                   0\n",
       "weaponsAcquired                0\n",
       "winPlacePerc                   0\n",
       "totalDistance                  0\n",
       "cnt_per_matchid                0\n",
       "total_heals                    0\n",
       "items                          0\n",
       "headshots_over_kills           0\n",
       "killPlace_over_maxPlace        0\n",
       "walkDistance_over_heals    16030\n",
       "workDistance_over_kills        0\n",
       "kills_over_match_cnt           0\n",
       "dtype: int64"
      ]
     },
     "execution_count": 26,
     "metadata": {},
     "output_type": "execute_result"
    }
   ],
   "source": [
    "solo_model.isnull().sum()"
   ]
  },
  {
   "cell_type": "markdown",
   "id": "a3aa9448",
   "metadata": {},
   "source": [
    "----------------------------------"
   ]
  },
  {
   "cell_type": "markdown",
   "id": "271c0674",
   "metadata": {},
   "source": [
    "## 3. VIF"
   ]
  },
  {
   "cell_type": "markdown",
   "id": "9f71cdc5",
   "metadata": {},
   "source": [
    "+ VIF를 하기 전에 파생변수를 사용해서 삭제해도 되는 변수들은 삭제\n",
    "    - items(heals, boosts, weaponsAcquired)\n",
    "    - total_heals(heals, boosts) 삭제 (items와 비슷)\n",
    "    - totalDistance(walkDistance, rideDistance, swimDistance)\n",
    "    - headshots_over_kills(headshotKills)\n",
    "    - walkDistacne_over_heals(결측치가 너무 많아서 삭제,, )\n",
    "    - cnt_per_matchid(비슷한 데이터가 너무 많음)\n",
    "    - maxPlace"
   ]
  },
  {
   "cell_type": "markdown",
   "id": "8fb69976",
   "metadata": {},
   "source": [
    "1. 1차 VIF\n",
    "    + 결과\n",
    "        - killPlace_over_maxPlace가 뭘 의미하는지 모르겠어서 일단 삭제했습니당ㅇ!!"
   ]
  },
  {
   "cell_type": "code",
   "execution_count": 27,
   "id": "bffc16ab",
   "metadata": {},
   "outputs": [],
   "source": [
    "vif_drop = ['winPlacePerc', 'heals', 'boosts', 'weaponsAcquired', 'total_heals', 'cnt_per_matchid',\n",
    "            'walkDistance', 'rideDistance', 'swimDistance', 'walkDistance_over_heals','headshotKills','maxPlace']\n",
    "solo_vif = solo_model.drop(vif_drop, axis = 'columns')"
   ]
  },
  {
   "cell_type": "code",
   "execution_count": 28,
   "id": "b90c4146",
   "metadata": {},
   "outputs": [
    {
     "data": {
      "text/html": [
       "<div>\n",
       "<style scoped>\n",
       "    .dataframe tbody tr th:only-of-type {\n",
       "        vertical-align: middle;\n",
       "    }\n",
       "\n",
       "    .dataframe tbody tr th {\n",
       "        vertical-align: top;\n",
       "    }\n",
       "\n",
       "    .dataframe thead th {\n",
       "        text-align: right;\n",
       "    }\n",
       "</style>\n",
       "<table border=\"1\" class=\"dataframe\">\n",
       "  <thead>\n",
       "    <tr style=\"text-align: right;\">\n",
       "      <th></th>\n",
       "      <th>VIF Factor</th>\n",
       "      <th>features</th>\n",
       "    </tr>\n",
       "  </thead>\n",
       "  <tbody>\n",
       "    <tr>\n",
       "      <th>0</th>\n",
       "      <td>273.124468</td>\n",
       "      <td>killPlace_over_maxPlace</td>\n",
       "    </tr>\n",
       "    <tr>\n",
       "      <th>1</th>\n",
       "      <td>272.317086</td>\n",
       "      <td>killPlace</td>\n",
       "    </tr>\n",
       "    <tr>\n",
       "      <th>2</th>\n",
       "      <td>27.210093</td>\n",
       "      <td>kills</td>\n",
       "    </tr>\n",
       "    <tr>\n",
       "      <th>3</th>\n",
       "      <td>15.681746</td>\n",
       "      <td>damageDealt</td>\n",
       "    </tr>\n",
       "    <tr>\n",
       "      <th>4</th>\n",
       "      <td>10.554190</td>\n",
       "      <td>kills_over_match_cnt</td>\n",
       "    </tr>\n",
       "    <tr>\n",
       "      <th>5</th>\n",
       "      <td>5.000202</td>\n",
       "      <td>killStreaks</td>\n",
       "    </tr>\n",
       "    <tr>\n",
       "      <th>6</th>\n",
       "      <td>4.167836</td>\n",
       "      <td>items</td>\n",
       "    </tr>\n",
       "    <tr>\n",
       "      <th>7</th>\n",
       "      <td>2.802574</td>\n",
       "      <td>totalDistance</td>\n",
       "    </tr>\n",
       "    <tr>\n",
       "      <th>8</th>\n",
       "      <td>2.540521</td>\n",
       "      <td>workDistance_over_kills</td>\n",
       "    </tr>\n",
       "    <tr>\n",
       "      <th>9</th>\n",
       "      <td>2.345425</td>\n",
       "      <td>longestKill</td>\n",
       "    </tr>\n",
       "    <tr>\n",
       "      <th>10</th>\n",
       "      <td>1.488045</td>\n",
       "      <td>headshots_over_kills</td>\n",
       "    </tr>\n",
       "    <tr>\n",
       "      <th>11</th>\n",
       "      <td>1.035365</td>\n",
       "      <td>roadKills</td>\n",
       "    </tr>\n",
       "    <tr>\n",
       "      <th>12</th>\n",
       "      <td>1.019478</td>\n",
       "      <td>vehicleDestroys</td>\n",
       "    </tr>\n",
       "  </tbody>\n",
       "</table>\n",
       "</div>"
      ],
      "text/plain": [
       "    VIF Factor                 features\n",
       "0   273.124468  killPlace_over_maxPlace\n",
       "1   272.317086                killPlace\n",
       "2    27.210093                    kills\n",
       "3    15.681746              damageDealt\n",
       "4    10.554190     kills_over_match_cnt\n",
       "5     5.000202              killStreaks\n",
       "6     4.167836                    items\n",
       "7     2.802574            totalDistance\n",
       "8     2.540521  workDistance_over_kills\n",
       "9     2.345425              longestKill\n",
       "10    1.488045     headshots_over_kills\n",
       "11    1.035365                roadKills\n",
       "12    1.019478          vehicleDestroys"
      ]
     },
     "execution_count": 28,
     "metadata": {},
     "output_type": "execute_result"
    }
   ],
   "source": [
    "from statsmodels.stats.outliers_influence import variance_inflation_factor\n",
    "\n",
    "vif = pd.DataFrame()\n",
    "vif['VIF Factor'] = [variance_inflation_factor(solo_vif.values, i) for i in range(solo_vif.shape[1])]\n",
    "vif['features'] = solo_vif.columns\n",
    "vif = vif.sort_values('VIF Factor', ascending=False).reset_index(drop=True)\n",
    "vif"
   ]
  },
  {
   "cell_type": "markdown",
   "id": "eb632081",
   "metadata": {},
   "source": [
    "2. 2차 VIF\n",
    "    + 결과\n",
    "        - kills보다 match 내 player수 대비 kill 수를 나타내는 kills_over_match_cnt가 더 유의미한 변수 같아서 kills를 삭제"
   ]
  },
  {
   "cell_type": "code",
   "execution_count": 30,
   "id": "41188d14",
   "metadata": {},
   "outputs": [],
   "source": [
    "vif_drop = ['winPlacePerc', 'heals', 'boosts', 'weaponsAcquired', 'total_heals', 'cnt_per_matchid',\n",
    "            'walkDistance', 'rideDistance', 'swimDistance', 'walkDistance_over_heals','headshotKills','maxPlace', \n",
    "            'killPlace_over_maxPlace']\n",
    "solo_vif = solo_model.drop(vif_drop, axis = 'columns')"
   ]
  },
  {
   "cell_type": "code",
   "execution_count": 31,
   "id": "a5920b20",
   "metadata": {},
   "outputs": [
    {
     "data": {
      "text/html": [
       "<div>\n",
       "<style scoped>\n",
       "    .dataframe tbody tr th:only-of-type {\n",
       "        vertical-align: middle;\n",
       "    }\n",
       "\n",
       "    .dataframe tbody tr th {\n",
       "        vertical-align: top;\n",
       "    }\n",
       "\n",
       "    .dataframe thead th {\n",
       "        text-align: right;\n",
       "    }\n",
       "</style>\n",
       "<table border=\"1\" class=\"dataframe\">\n",
       "  <thead>\n",
       "    <tr style=\"text-align: right;\">\n",
       "      <th></th>\n",
       "      <th>VIF Factor</th>\n",
       "      <th>features</th>\n",
       "    </tr>\n",
       "  </thead>\n",
       "  <tbody>\n",
       "    <tr>\n",
       "      <th>0</th>\n",
       "      <td>26.906595</td>\n",
       "      <td>kills</td>\n",
       "    </tr>\n",
       "    <tr>\n",
       "      <th>1</th>\n",
       "      <td>15.678143</td>\n",
       "      <td>damageDealt</td>\n",
       "    </tr>\n",
       "    <tr>\n",
       "      <th>2</th>\n",
       "      <td>10.334635</td>\n",
       "      <td>kills_over_match_cnt</td>\n",
       "    </tr>\n",
       "    <tr>\n",
       "      <th>3</th>\n",
       "      <td>4.999928</td>\n",
       "      <td>killStreaks</td>\n",
       "    </tr>\n",
       "    <tr>\n",
       "      <th>4</th>\n",
       "      <td>4.163277</td>\n",
       "      <td>items</td>\n",
       "    </tr>\n",
       "    <tr>\n",
       "      <th>5</th>\n",
       "      <td>2.801454</td>\n",
       "      <td>totalDistance</td>\n",
       "    </tr>\n",
       "    <tr>\n",
       "      <th>6</th>\n",
       "      <td>2.539973</td>\n",
       "      <td>workDistance_over_kills</td>\n",
       "    </tr>\n",
       "    <tr>\n",
       "      <th>7</th>\n",
       "      <td>2.345424</td>\n",
       "      <td>longestKill</td>\n",
       "    </tr>\n",
       "    <tr>\n",
       "      <th>8</th>\n",
       "      <td>1.488042</td>\n",
       "      <td>headshots_over_kills</td>\n",
       "    </tr>\n",
       "    <tr>\n",
       "      <th>9</th>\n",
       "      <td>1.437593</td>\n",
       "      <td>killPlace</td>\n",
       "    </tr>\n",
       "    <tr>\n",
       "      <th>10</th>\n",
       "      <td>1.035348</td>\n",
       "      <td>roadKills</td>\n",
       "    </tr>\n",
       "    <tr>\n",
       "      <th>11</th>\n",
       "      <td>1.019477</td>\n",
       "      <td>vehicleDestroys</td>\n",
       "    </tr>\n",
       "  </tbody>\n",
       "</table>\n",
       "</div>"
      ],
      "text/plain": [
       "    VIF Factor                 features\n",
       "0    26.906595                    kills\n",
       "1    15.678143              damageDealt\n",
       "2    10.334635     kills_over_match_cnt\n",
       "3     4.999928              killStreaks\n",
       "4     4.163277                    items\n",
       "5     2.801454            totalDistance\n",
       "6     2.539973  workDistance_over_kills\n",
       "7     2.345424              longestKill\n",
       "8     1.488042     headshots_over_kills\n",
       "9     1.437593                killPlace\n",
       "10    1.035348                roadKills\n",
       "11    1.019477          vehicleDestroys"
      ]
     },
     "execution_count": 31,
     "metadata": {},
     "output_type": "execute_result"
    }
   ],
   "source": [
    "from statsmodels.stats.outliers_influence import variance_inflation_factor\n",
    "\n",
    "vif = pd.DataFrame()\n",
    "vif['VIF Factor'] = [variance_inflation_factor(solo_vif.values, i) for i in range(solo_vif.shape[1])]\n",
    "vif['features'] = solo_vif.columns\n",
    "vif = vif.sort_values('VIF Factor', ascending=False).reset_index(drop=True)\n",
    "vif"
   ]
  },
  {
   "cell_type": "markdown",
   "id": "638109fd",
   "metadata": {},
   "source": [
    "3. 3차 VIF\n",
    "    + 결과\n",
    "        - 남은 변수('damageDealt','headshotKills', 'killPlace','killStreaks','longestKill','numGroups','roadKills','vehicleDestroys','totalDistance','cnt_per_matchid', 'items','headshots_over_kills','workDistance_over_kills', 'kills_over_match_cnt')"
   ]
  },
  {
   "cell_type": "code",
   "execution_count": 32,
   "id": "63f59e81",
   "metadata": {},
   "outputs": [],
   "source": [
    "vif_drop = ['winPlacePerc', 'heals', 'boosts', 'weaponsAcquired', 'total_heals', 'cnt_per_matchid',\n",
    "            'walkDistance', 'rideDistance', 'swimDistance', 'walkDistance_over_heals','headshotKills','maxPlace', \n",
    "            'killPlace_over_maxPlace', 'kills']\n",
    "solo_vif = solo_model.drop(vif_drop, axis = 'columns')"
   ]
  },
  {
   "cell_type": "code",
   "execution_count": 33,
   "id": "28468830",
   "metadata": {},
   "outputs": [
    {
     "data": {
      "text/html": [
       "<div>\n",
       "<style scoped>\n",
       "    .dataframe tbody tr th:only-of-type {\n",
       "        vertical-align: middle;\n",
       "    }\n",
       "\n",
       "    .dataframe tbody tr th {\n",
       "        vertical-align: top;\n",
       "    }\n",
       "\n",
       "    .dataframe thead th {\n",
       "        text-align: right;\n",
       "    }\n",
       "</style>\n",
       "<table border=\"1\" class=\"dataframe\">\n",
       "  <thead>\n",
       "    <tr style=\"text-align: right;\">\n",
       "      <th></th>\n",
       "      <th>VIF Factor</th>\n",
       "      <th>features</th>\n",
       "    </tr>\n",
       "  </thead>\n",
       "  <tbody>\n",
       "    <tr>\n",
       "      <th>0</th>\n",
       "      <td>8.520670</td>\n",
       "      <td>damageDealt</td>\n",
       "    </tr>\n",
       "    <tr>\n",
       "      <th>1</th>\n",
       "      <td>6.584556</td>\n",
       "      <td>kills_over_match_cnt</td>\n",
       "    </tr>\n",
       "    <tr>\n",
       "      <th>2</th>\n",
       "      <td>4.652389</td>\n",
       "      <td>killStreaks</td>\n",
       "    </tr>\n",
       "    <tr>\n",
       "      <th>3</th>\n",
       "      <td>4.153995</td>\n",
       "      <td>items</td>\n",
       "    </tr>\n",
       "    <tr>\n",
       "      <th>4</th>\n",
       "      <td>2.800858</td>\n",
       "      <td>totalDistance</td>\n",
       "    </tr>\n",
       "    <tr>\n",
       "      <th>5</th>\n",
       "      <td>2.454152</td>\n",
       "      <td>workDistance_over_kills</td>\n",
       "    </tr>\n",
       "    <tr>\n",
       "      <th>6</th>\n",
       "      <td>2.263515</td>\n",
       "      <td>longestKill</td>\n",
       "    </tr>\n",
       "    <tr>\n",
       "      <th>7</th>\n",
       "      <td>1.487510</td>\n",
       "      <td>headshots_over_kills</td>\n",
       "    </tr>\n",
       "    <tr>\n",
       "      <th>8</th>\n",
       "      <td>1.344811</td>\n",
       "      <td>killPlace</td>\n",
       "    </tr>\n",
       "    <tr>\n",
       "      <th>9</th>\n",
       "      <td>1.035347</td>\n",
       "      <td>roadKills</td>\n",
       "    </tr>\n",
       "    <tr>\n",
       "      <th>10</th>\n",
       "      <td>1.019461</td>\n",
       "      <td>vehicleDestroys</td>\n",
       "    </tr>\n",
       "  </tbody>\n",
       "</table>\n",
       "</div>"
      ],
      "text/plain": [
       "    VIF Factor                 features\n",
       "0     8.520670              damageDealt\n",
       "1     6.584556     kills_over_match_cnt\n",
       "2     4.652389              killStreaks\n",
       "3     4.153995                    items\n",
       "4     2.800858            totalDistance\n",
       "5     2.454152  workDistance_over_kills\n",
       "6     2.263515              longestKill\n",
       "7     1.487510     headshots_over_kills\n",
       "8     1.344811                killPlace\n",
       "9     1.035347                roadKills\n",
       "10    1.019461          vehicleDestroys"
      ]
     },
     "execution_count": 33,
     "metadata": {},
     "output_type": "execute_result"
    }
   ],
   "source": [
    "from statsmodels.stats.outliers_influence import variance_inflation_factor\n",
    "\n",
    "vif = pd.DataFrame()\n",
    "vif['VIF Factor'] = [variance_inflation_factor(solo_vif.values, i) for i in range(solo_vif.shape[1])]\n",
    "vif['features'] = solo_vif.columns\n",
    "vif = vif.sort_values('VIF Factor', ascending=False).reset_index(drop=True)\n",
    "vif"
   ]
  },
  {
   "cell_type": "code",
   "execution_count": 34,
   "id": "bc452500",
   "metadata": {
    "scrolled": false
   },
   "outputs": [
    {
     "data": {
      "image/png": "[encoded data removed]",
      "text/plain": [
       "<Figure size 1080x1080 with 2 Axes>"
      ]
     },
     "metadata": {
      "needs_background": "light"
     },
     "output_type": "display_data"
    }
   ],
   "source": [
    "# solo_vif.corr().style.background_gradient().set_properties(**{'font-size': '11pt'})\n",
    "vif_1 = solo_vif.corr()\n",
    "# 그림 사이즈 지정\n",
    "fig, ax = plt.subplots( figsize=(15,15) )\n",
    "\n",
    "# 삼각형 마스크를 만든다(위 쪽 삼각형에 True, 아래 삼각형에 False)\n",
    "mask = np.zeros_like(vif_1, dtype=np.bool)\n",
    "mask[np.triu_indices_from(mask)] = True\n",
    "\n",
    "# 히트맵을 그린다\n",
    "sns.heatmap(vif_1, \n",
    "            cmap = 'RdYlBu_r', \n",
    "            annot = True,   # 실제 값을 표시한다\n",
    "            mask=mask,      # 표시하지 않을 마스크 부분을 지정한다\n",
    "            linewidths=.5,  # 경계면 실선으로 구분하기\n",
    "            cbar_kws={\"shrink\": .5},# 컬러바 크기 절반으로 줄이기\n",
    "            vmin = -1,vmax = 1,\n",
    "            annot_kws={\"size\": 15}# 컬러바 범위 -1 ~ 1\n",
    "           )  \n",
    "plt.show()"
   ]
  },
  {
   "cell_type": "markdown",
   "id": "03749b55",
   "metadata": {},
   "source": [
    "## 4. OLS(VIF 전 OLS = 0.97, VIF 후 OLS = 0.884)"
   ]
  },
  {
   "cell_type": "markdown",
   "id": "68f7c3b9",
   "metadata": {},
   "source": [
    "### VIF 하기 전 OLS 값(0.97,,,?) "
   ]
  },
  {
   "cell_type": "code",
   "execution_count": 40,
   "id": "db3e5082",
   "metadata": {},
   "outputs": [],
   "source": [
    "f_y = solo_model['winPlacePerc']\n",
    "f_X = solo_model.drop('walkDistance_over_heals',axis = 'columns')\n",
    "f_X = f_X.drop('winPlacePerc',axis = 'columns')"
   ]
  },
  {
   "cell_type": "code",
   "execution_count": 41,
   "id": "24f40220",
   "metadata": {
    "scrolled": false
   },
   "outputs": [
    {
     "data": {
      "text/html": [
       "<table class=\"simpletable\">\n",
       "<caption>OLS Regression Results</caption>\n",
       "<tr>\n",
       "  <th>Dep. Variable:</th>      <td>winPlacePerc</td>   <th>  R-squared (uncentered):</th>       <td>   0.970</td> \n",
       "</tr>\n",
       "<tr>\n",
       "  <th>Model:</th>                   <td>OLS</td>       <th>  Adj. R-squared (uncentered):</th>  <td>   0.970</td> \n",
       "</tr>\n",
       "<tr>\n",
       "  <th>Method:</th>             <td>Least Squares</td>  <th>  F-statistic:       </th>           <td>1.071e+06</td>\n",
       "</tr>\n",
       "<tr>\n",
       "  <th>Date:</th>             <td>Tue, 28 Feb 2023</td> <th>  Prob (F-statistic):</th>            <td>  0.00</td>  \n",
       "</tr>\n",
       "<tr>\n",
       "  <th>Time:</th>                 <td>19:34:50</td>     <th>  Log-Likelihood:    </th>          <td>6.1767e+05</td>\n",
       "</tr>\n",
       "<tr>\n",
       "  <th>No. Observations:</th>      <td>702414</td>      <th>  AIC:               </th>          <td>-1.235e+06</td>\n",
       "</tr>\n",
       "<tr>\n",
       "  <th>Df Residuals:</th>          <td>702393</td>      <th>  BIC:               </th>          <td>-1.235e+06</td>\n",
       "</tr>\n",
       "<tr>\n",
       "  <th>Df Model:</th>              <td>    21</td>      <th>                     </th>               <td> </td>    \n",
       "</tr>\n",
       "<tr>\n",
       "  <th>Covariance Type:</th>      <td>nonrobust</td>    <th>                     </th>               <td> </td>    \n",
       "</tr>\n",
       "</table>\n",
       "<table class=\"simpletable\">\n",
       "<tr>\n",
       "             <td></td>                <th>coef</th>     <th>std err</th>      <th>t</th>      <th>P>|t|</th>  <th>[0.025</th>    <th>0.975]</th>  \n",
       "</tr>\n",
       "<tr>\n",
       "  <th>boosts</th>                  <td>    0.0091</td> <td> 7.39e-05</td> <td>  123.499</td> <td> 0.000</td> <td>    0.009</td> <td>    0.009</td>\n",
       "</tr>\n",
       "<tr>\n",
       "  <th>damageDealt</th>             <td> 9.089e-05</td> <td>  2.4e-06</td> <td>   37.929</td> <td> 0.000</td> <td> 8.62e-05</td> <td> 9.56e-05</td>\n",
       "</tr>\n",
       "<tr>\n",
       "  <th>headshotKills</th>           <td>    0.0465</td> <td>    0.000</td> <td>  107.434</td> <td> 0.000</td> <td>    0.046</td> <td>    0.047</td>\n",
       "</tr>\n",
       "<tr>\n",
       "  <th>heals</th>                   <td>   -0.0081</td> <td> 6.03e-05</td> <td> -134.614</td> <td> 0.000</td> <td>   -0.008</td> <td>   -0.008</td>\n",
       "</tr>\n",
       "<tr>\n",
       "  <th>killPlace</th>               <td>   -0.0131</td> <td> 3.97e-05</td> <td> -329.054</td> <td> 0.000</td> <td>   -0.013</td> <td>   -0.013</td>\n",
       "</tr>\n",
       "<tr>\n",
       "  <th>kills</th>                   <td>   -0.0810</td> <td>    0.000</td> <td> -212.148</td> <td> 0.000</td> <td>   -0.082</td> <td>   -0.080</td>\n",
       "</tr>\n",
       "<tr>\n",
       "  <th>killStreaks</th>             <td>   -0.2081</td> <td>    0.001</td> <td> -388.844</td> <td> 0.000</td> <td>   -0.209</td> <td>   -0.207</td>\n",
       "</tr>\n",
       "<tr>\n",
       "  <th>longestKill</th>             <td>-6.027e-05</td> <td> 3.55e-06</td> <td>  -16.981</td> <td> 0.000</td> <td>-6.72e-05</td> <td>-5.33e-05</td>\n",
       "</tr>\n",
       "<tr>\n",
       "  <th>maxPlace</th>                <td>    0.0180</td> <td> 7.44e-05</td> <td>  242.258</td> <td> 0.000</td> <td>    0.018</td> <td>    0.018</td>\n",
       "</tr>\n",
       "<tr>\n",
       "  <th>rideDistance</th>            <td>    5.5565</td> <td>    7.463</td> <td>    0.745</td> <td> 0.457</td> <td>   -9.071</td> <td>   20.183</td>\n",
       "</tr>\n",
       "<tr>\n",
       "  <th>roadKills</th>               <td>    0.0458</td> <td>    0.001</td> <td>   33.339</td> <td> 0.000</td> <td>    0.043</td> <td>    0.048</td>\n",
       "</tr>\n",
       "<tr>\n",
       "  <th>swimDistance</th>            <td>    5.5566</td> <td>    7.463</td> <td>    0.745</td> <td> 0.457</td> <td>   -9.070</td> <td>   20.184</td>\n",
       "</tr>\n",
       "<tr>\n",
       "  <th>vehicleDestroys</th>         <td>   -0.0119</td> <td>    0.002</td> <td>   -6.951</td> <td> 0.000</td> <td>   -0.015</td> <td>   -0.009</td>\n",
       "</tr>\n",
       "<tr>\n",
       "  <th>walkDistance</th>            <td>    5.5565</td> <td>    7.463</td> <td>    0.745</td> <td> 0.457</td> <td>   -9.070</td> <td>   20.184</td>\n",
       "</tr>\n",
       "<tr>\n",
       "  <th>weaponsAcquired</th>         <td>    0.0054</td> <td> 4.44e-05</td> <td>  121.984</td> <td> 0.000</td> <td>    0.005</td> <td>    0.006</td>\n",
       "</tr>\n",
       "<tr>\n",
       "  <th>totalDistance</th>           <td>   -5.5565</td> <td>    7.463</td> <td>   -0.745</td> <td> 0.457</td> <td>  -20.183</td> <td>    9.071</td>\n",
       "</tr>\n",
       "<tr>\n",
       "  <th>cnt_per_matchid</th>         <td>   -0.0081</td> <td> 7.57e-05</td> <td> -107.254</td> <td> 0.000</td> <td>   -0.008</td> <td>   -0.008</td>\n",
       "</tr>\n",
       "<tr>\n",
       "  <th>total_heals</th>             <td>    0.0010</td> <td>  3.1e-05</td> <td>   32.512</td> <td> 0.000</td> <td>    0.001</td> <td>    0.001</td>\n",
       "</tr>\n",
       "<tr>\n",
       "  <th>items</th>                   <td>    0.0064</td> <td>  2.8e-05</td> <td>  229.218</td> <td> 0.000</td> <td>    0.006</td> <td>    0.006</td>\n",
       "</tr>\n",
       "<tr>\n",
       "  <th>headshots_over_kills</th>    <td>   -0.0806</td> <td>    0.001</td> <td>  -99.788</td> <td> 0.000</td> <td>   -0.082</td> <td>   -0.079</td>\n",
       "</tr>\n",
       "<tr>\n",
       "  <th>killPlace_over_maxPlace</th> <td>    0.2941</td> <td>    0.003</td> <td>   84.611</td> <td> 0.000</td> <td>    0.287</td> <td>    0.301</td>\n",
       "</tr>\n",
       "<tr>\n",
       "  <th>workDistance_over_kills</th> <td> 1.669e-05</td> <td> 2.81e-07</td> <td>   59.342</td> <td> 0.000</td> <td> 1.61e-05</td> <td> 1.72e-05</td>\n",
       "</tr>\n",
       "<tr>\n",
       "  <th>kills_over_match_cnt</th>    <td>    3.1701</td> <td>    0.019</td> <td>  163.782</td> <td> 0.000</td> <td>    3.132</td> <td>    3.208</td>\n",
       "</tr>\n",
       "</table>\n",
       "<table class=\"simpletable\">\n",
       "<tr>\n",
       "  <th>Omnibus:</th>       <td>169459.571</td> <th>  Durbin-Watson:     </th>  <td>   2.000</td>  \n",
       "</tr>\n",
       "<tr>\n",
       "  <th>Prob(Omnibus):</th>   <td> 0.000</td>   <th>  Jarque-Bera (JB):  </th> <td>5532889.697</td>\n",
       "</tr>\n",
       "<tr>\n",
       "  <th>Skew:</th>            <td> 0.494</td>   <th>  Prob(JB):          </th>  <td>    0.00</td>  \n",
       "</tr>\n",
       "<tr>\n",
       "  <th>Kurtosis:</th>        <td>16.714</td>   <th>  Cond. No.          </th>  <td>1.07e+18</td>  \n",
       "</tr>\n",
       "</table><br/><br/>Notes:<br/>[1] R² is computed without centering (uncentered) since the model does not contain a constant.<br/>[2] Standard Errors assume that the covariance matrix of the errors is correctly specified.<br/>[3] The smallest eigenvalue is 5.61e-24. This might indicate that there are<br/>strong multicollinearity problems or that the design matrix is singular."
      ],
      "text/plain": [
       "<class 'statsmodels.iolib.summary.Summary'>\n",
       "\"\"\"\n",
       "                                 OLS Regression Results                                \n",
       "=======================================================================================\n",
       "Dep. Variable:           winPlacePerc   R-squared (uncentered):                   0.970\n",
       "Model:                            OLS   Adj. R-squared (uncentered):              0.970\n",
       "Method:                 Least Squares   F-statistic:                          1.071e+06\n",
       "Date:                Tue, 28 Feb 2023   Prob (F-statistic):                        0.00\n",
       "Time:                        19:34:50   Log-Likelihood:                      6.1767e+05\n",
       "No. Observations:              702414   AIC:                                 -1.235e+06\n",
       "Df Residuals:                  702393   BIC:                                 -1.235e+06\n",
       "Df Model:                          21                                                  \n",
       "Covariance Type:            nonrobust                                                  \n",
       "===========================================================================================\n",
       "                              coef    std err          t      P>|t|      [0.025      0.975]\n",
       "-------------------------------------------------------------------------------------------\n",
       "boosts                      0.0091   7.39e-05    123.499      0.000       0.009       0.009\n",
       "damageDealt              9.089e-05    2.4e-06     37.929      0.000    8.62e-05    9.56e-05\n",
       "headshotKills               0.0465      0.000    107.434      0.000       0.046       0.047\n",
       "heals                      -0.0081   6.03e-05   -134.614      0.000      -0.008      -0.008\n",
       "killPlace                  -0.0131   3.97e-05   -329.054      0.000      -0.013      -0.013\n",
       "kills                      -0.0810      0.000   -212.148      0.000      -0.082      -0.080\n",
       "killStreaks                -0.2081      0.001   -388.844      0.000      -0.209      -0.207\n",
       "longestKill             -6.027e-05   3.55e-06    -16.981      0.000   -6.72e-05   -5.33e-05\n",
       "maxPlace                    0.0180   7.44e-05    242.258      0.000       0.018       0.018\n",
       "rideDistance                5.5565      7.463      0.745      0.457      -9.071      20.183\n",
       "roadKills                   0.0458      0.001     33.339      0.000       0.043       0.048\n",
       "swimDistance                5.5566      7.463      0.745      0.457      -9.070      20.184\n",
       "vehicleDestroys            -0.0119      0.002     -6.951      0.000      -0.015      -0.009\n",
       "walkDistance                5.5565      7.463      0.745      0.457      -9.070      20.184\n",
       "weaponsAcquired             0.0054   4.44e-05    121.984      0.000       0.005       0.006\n",
       "totalDistance              -5.5565      7.463     -0.745      0.457     -20.183       9.071\n",
       "cnt_per_matchid            -0.0081   7.57e-05   -107.254      0.000      -0.008      -0.008\n",
       "total_heals                 0.0010    3.1e-05     32.512      0.000       0.001       0.001\n",
       "items                       0.0064    2.8e-05    229.218      0.000       0.006       0.006\n",
       "headshots_over_kills       -0.0806      0.001    -99.788      0.000      -0.082      -0.079\n",
       "killPlace_over_maxPlace     0.2941      0.003     84.611      0.000       0.287       0.301\n",
       "workDistance_over_kills  1.669e-05   2.81e-07     59.342      0.000    1.61e-05    1.72e-05\n",
       "kills_over_match_cnt        3.1701      0.019    163.782      0.000       3.132       3.208\n",
       "==============================================================================\n",
       "Omnibus:                   169459.571   Durbin-Watson:                   2.000\n",
       "Prob(Omnibus):                  0.000   Jarque-Bera (JB):          5532889.697\n",
       "Skew:                           0.494   Prob(JB):                         0.00\n",
       "Kurtosis:                      16.714   Cond. No.                     1.07e+18\n",
       "==============================================================================\n",
       "\n",
       "Notes:\n",
       "[1] R² is computed without centering (uncentered) since the model does not contain a constant.\n",
       "[2] Standard Errors assume that the covariance matrix of the errors is correctly specified.\n",
       "[3] The smallest eigenvalue is 5.61e-24. This might indicate that there are\n",
       "strong multicollinearity problems or that the design matrix is singular.\n",
       "\"\"\""
      ]
     },
     "metadata": {},
     "output_type": "display_data"
    }
   ],
   "source": [
    "import statsmodels.api as sm\n",
    "\n",
    "model = sm.OLS(f_y, f_X).fit() #회귀분석 계산\n",
    "display(model.summary()) #통계량 정리"
   ]
  },
  {
   "cell_type": "markdown",
   "id": "56e3887c",
   "metadata": {},
   "source": [
    "### VIF 한 후 OLS 값(0.884)"
   ]
  },
  {
   "cell_type": "code",
   "execution_count": 42,
   "id": "c7258d6f",
   "metadata": {},
   "outputs": [],
   "source": [
    "X_OLS = solo_vif\n",
    "y_OLS = solo_model['winPlacePerc']"
   ]
  },
  {
   "cell_type": "code",
   "execution_count": 43,
   "id": "d8e3865b",
   "metadata": {},
   "outputs": [
    {
     "data": {
      "text/html": [
       "<table class=\"simpletable\">\n",
       "<caption>OLS Regression Results</caption>\n",
       "<tr>\n",
       "  <th>Dep. Variable:</th>      <td>winPlacePerc</td>   <th>  R-squared (uncentered):</th>       <td>   0.884</td> \n",
       "</tr>\n",
       "<tr>\n",
       "  <th>Model:</th>                   <td>OLS</td>       <th>  Adj. R-squared (uncentered):</th>  <td>   0.884</td> \n",
       "</tr>\n",
       "<tr>\n",
       "  <th>Method:</th>             <td>Least Squares</td>  <th>  F-statistic:       </th>           <td>4.871e+05</td>\n",
       "</tr>\n",
       "<tr>\n",
       "  <th>Date:</th>             <td>Tue, 28 Feb 2023</td> <th>  Prob (F-statistic):</th>            <td>  0.00</td>  \n",
       "</tr>\n",
       "<tr>\n",
       "  <th>Time:</th>                 <td>19:34:59</td>     <th>  Log-Likelihood:    </th>          <td>1.4621e+05</td>\n",
       "</tr>\n",
       "<tr>\n",
       "  <th>No. Observations:</th>      <td>702414</td>      <th>  AIC:               </th>          <td>-2.924e+05</td>\n",
       "</tr>\n",
       "<tr>\n",
       "  <th>Df Residuals:</th>          <td>702403</td>      <th>  BIC:               </th>          <td>-2.923e+05</td>\n",
       "</tr>\n",
       "<tr>\n",
       "  <th>Df Model:</th>              <td>    11</td>      <th>                     </th>               <td> </td>    \n",
       "</tr>\n",
       "<tr>\n",
       "  <th>Covariance Type:</th>      <td>nonrobust</td>    <th>                     </th>               <td> </td>    \n",
       "</tr>\n",
       "</table>\n",
       "<table class=\"simpletable\">\n",
       "<tr>\n",
       "             <td></td>                <th>coef</th>     <th>std err</th>      <th>t</th>      <th>P>|t|</th>  <th>[0.025</th>    <th>0.975]</th>  \n",
       "</tr>\n",
       "<tr>\n",
       "  <th>damageDealt</th>             <td>    0.0004</td> <td> 3.43e-06</td> <td>  104.575</td> <td> 0.000</td> <td>    0.000</td> <td>    0.000</td>\n",
       "</tr>\n",
       "<tr>\n",
       "  <th>killPlace</th>               <td>    0.0024</td> <td> 4.98e-06</td> <td>  487.314</td> <td> 0.000</td> <td>    0.002</td> <td>    0.002</td>\n",
       "</tr>\n",
       "<tr>\n",
       "  <th>killStreaks</th>             <td>    0.1070</td> <td>    0.001</td> <td>  156.913</td> <td> 0.000</td> <td>    0.106</td> <td>    0.108</td>\n",
       "</tr>\n",
       "<tr>\n",
       "  <th>longestKill</th>             <td> 1.818e-05</td> <td> 6.81e-06</td> <td>    2.669</td> <td> 0.008</td> <td> 4.83e-06</td> <td> 3.15e-05</td>\n",
       "</tr>\n",
       "<tr>\n",
       "  <th>roadKills</th>               <td>   -0.1387</td> <td>    0.003</td> <td>  -51.894</td> <td> 0.000</td> <td>   -0.144</td> <td>   -0.133</td>\n",
       "</tr>\n",
       "<tr>\n",
       "  <th>vehicleDestroys</th>         <td>   -0.0995</td> <td>    0.003</td> <td>  -29.683</td> <td> 0.000</td> <td>   -0.106</td> <td>   -0.093</td>\n",
       "</tr>\n",
       "<tr>\n",
       "  <th>totalDistance</th>           <td> 5.425e-05</td> <td>  1.6e-07</td> <td>  338.371</td> <td> 0.000</td> <td> 5.39e-05</td> <td> 5.46e-05</td>\n",
       "</tr>\n",
       "<tr>\n",
       "  <th>items</th>                   <td>    0.0296</td> <td> 6.25e-05</td> <td>  473.756</td> <td> 0.000</td> <td>    0.029</td> <td>    0.030</td>\n",
       "</tr>\n",
       "<tr>\n",
       "  <th>headshots_over_kills</th>    <td>    0.0200</td> <td>    0.001</td> <td>   20.811</td> <td> 0.000</td> <td>    0.018</td> <td>    0.022</td>\n",
       "</tr>\n",
       "<tr>\n",
       "  <th>workDistance_over_kills</th> <td> 5.999e-05</td> <td>  4.6e-07</td> <td>  130.448</td> <td> 0.000</td> <td> 5.91e-05</td> <td> 6.09e-05</td>\n",
       "</tr>\n",
       "<tr>\n",
       "  <th>kills_over_match_cnt</th>    <td>   -0.7875</td> <td>    0.029</td> <td>  -26.961</td> <td> 0.000</td> <td>   -0.845</td> <td>   -0.730</td>\n",
       "</tr>\n",
       "</table>\n",
       "<table class=\"simpletable\">\n",
       "<tr>\n",
       "  <th>Omnibus:</th>       <td>20153.366</td> <th>  Durbin-Watson:     </th> <td>   1.971</td> \n",
       "</tr>\n",
       "<tr>\n",
       "  <th>Prob(Omnibus):</th>  <td> 0.000</td>   <th>  Jarque-Bera (JB):  </th> <td>51978.166</td>\n",
       "</tr>\n",
       "<tr>\n",
       "  <th>Skew:</th>           <td>-0.052</td>   <th>  Prob(JB):          </th> <td>    0.00</td> \n",
       "</tr>\n",
       "<tr>\n",
       "  <th>Kurtosis:</th>       <td> 4.329</td>   <th>  Cond. No.          </th> <td>3.12e+05</td> \n",
       "</tr>\n",
       "</table><br/><br/>Notes:<br/>[1] R² is computed without centering (uncentered) since the model does not contain a constant.<br/>[2] Standard Errors assume that the covariance matrix of the errors is correctly specified.<br/>[3] The condition number is large, 3.12e+05. This might indicate that there are<br/>strong multicollinearity or other numerical problems."
      ],
      "text/plain": [
       "<class 'statsmodels.iolib.summary.Summary'>\n",
       "\"\"\"\n",
       "                                 OLS Regression Results                                \n",
       "=======================================================================================\n",
       "Dep. Variable:           winPlacePerc   R-squared (uncentered):                   0.884\n",
       "Model:                            OLS   Adj. R-squared (uncentered):              0.884\n",
       "Method:                 Least Squares   F-statistic:                          4.871e+05\n",
       "Date:                Tue, 28 Feb 2023   Prob (F-statistic):                        0.00\n",
       "Time:                        19:34:59   Log-Likelihood:                      1.4621e+05\n",
       "No. Observations:              702414   AIC:                                 -2.924e+05\n",
       "Df Residuals:                  702403   BIC:                                 -2.923e+05\n",
       "Df Model:                          11                                                  \n",
       "Covariance Type:            nonrobust                                                  \n",
       "===========================================================================================\n",
       "                              coef    std err          t      P>|t|      [0.025      0.975]\n",
       "-------------------------------------------------------------------------------------------\n",
       "damageDealt                 0.0004   3.43e-06    104.575      0.000       0.000       0.000\n",
       "killPlace                   0.0024   4.98e-06    487.314      0.000       0.002       0.002\n",
       "killStreaks                 0.1070      0.001    156.913      0.000       0.106       0.108\n",
       "longestKill              1.818e-05   6.81e-06      2.669      0.008    4.83e-06    3.15e-05\n",
       "roadKills                  -0.1387      0.003    -51.894      0.000      -0.144      -0.133\n",
       "vehicleDestroys            -0.0995      0.003    -29.683      0.000      -0.106      -0.093\n",
       "totalDistance            5.425e-05    1.6e-07    338.371      0.000    5.39e-05    5.46e-05\n",
       "items                       0.0296   6.25e-05    473.756      0.000       0.029       0.030\n",
       "headshots_over_kills        0.0200      0.001     20.811      0.000       0.018       0.022\n",
       "workDistance_over_kills  5.999e-05    4.6e-07    130.448      0.000    5.91e-05    6.09e-05\n",
       "kills_over_match_cnt       -0.7875      0.029    -26.961      0.000      -0.845      -0.730\n",
       "==============================================================================\n",
       "Omnibus:                    20153.366   Durbin-Watson:                   1.971\n",
       "Prob(Omnibus):                  0.000   Jarque-Bera (JB):            51978.166\n",
       "Skew:                          -0.052   Prob(JB):                         0.00\n",
       "Kurtosis:                       4.329   Cond. No.                     3.12e+05\n",
       "==============================================================================\n",
       "\n",
       "Notes:\n",
       "[1] R² is computed without centering (uncentered) since the model does not contain a constant.\n",
       "[2] Standard Errors assume that the covariance matrix of the errors is correctly specified.\n",
       "[3] The condition number is large, 3.12e+05. This might indicate that there are\n",
       "strong multicollinearity or other numerical problems.\n",
       "\"\"\""
      ]
     },
     "metadata": {},
     "output_type": "display_data"
    }
   ],
   "source": [
    "import statsmodels.api as sm\n",
    "\n",
    "model_ols = sm.OLS(y_OLS, X_OLS).fit() #회귀분석 계산\n",
    "display(model_ols.summary()) #통계량 정리"
   ]
  },
  {
   "cell_type": "markdown",
   "id": "5b9206b1",
   "metadata": {},
   "source": [
    "## 5. Modeling"
   ]
  },
  {
   "cell_type": "code",
   "execution_count": 44,
   "id": "780b3630",
   "metadata": {},
   "outputs": [],
   "source": [
    "from sklearn.model_selection import train_test_split\n",
    "from sklearn.linear_model import LinearRegression\n",
    "\n",
    "X = solo_vif\n",
    "y = solo_model['winPlacePerc']\n",
    "\n",
    "X_train, X_test, y_train, y_test = train_test_split(X, y, test_size=0.20)"
   ]
  },
  {
   "cell_type": "code",
   "execution_count": 45,
   "id": "72703054",
   "metadata": {},
   "outputs": [
    {
     "name": "stdout",
     "output_type": "stream",
     "text": [
      "(561931, 11) (140483, 11)\n"
     ]
    }
   ],
   "source": [
    "print(X_train.shape, X_test.shape)"
   ]
  },
  {
   "cell_type": "markdown",
   "id": "c0710a6f",
   "metadata": {},
   "source": [
    "### 1) Linear Regression"
   ]
  },
  {
   "cell_type": "code",
   "execution_count": 46,
   "id": "fe2cd60e",
   "metadata": {},
   "outputs": [
    {
     "name": "stdout",
     "output_type": "stream",
     "text": [
      "Linear Train Score: 0.8386565574174648\n",
      "Linear Test Score: 0.838119999697756\n"
     ]
    }
   ],
   "source": [
    "model_lr = LinearRegression(normalize=True, n_jobs=8)\n",
    "model_lr = model_lr.fit(X_train, y_train)\n",
    "\n",
    "print(\"Linear Train Score:\", model_lr.score(X_train, y_train))\n",
    "print(\"Linear Test Score:\", model_lr.score(X_test, y_test))"
   ]
  },
  {
   "cell_type": "code",
   "execution_count": 47,
   "id": "f277eeef",
   "metadata": {},
   "outputs": [],
   "source": [
    "lr_pred = model_lr.predict(X_test)"
   ]
  },
  {
   "cell_type": "code",
   "execution_count": 48,
   "id": "5a654ac1",
   "metadata": {},
   "outputs": [
    {
     "name": "stdout",
     "output_type": "stream",
     "text": [
      "Linear Regression 모델의 mae 값 :  0.0823302273072736\n"
     ]
    }
   ],
   "source": [
    "from sklearn.metrics import mean_absolute_error\n",
    "\n",
    "mae = mean_absolute_error(y_test,lr_pred)\n",
    "print(\"Linear Regression 모델의 mae 값 : \", mae)"
   ]
  },
  {
   "cell_type": "code",
   "execution_count": 49,
   "id": "c523ef52",
   "metadata": {},
   "outputs": [
    {
     "data": {
      "text/plain": [
       "array([0.58822756, 0.46014882, 0.32497594, ..., 0.4465263 , 0.71911806,\n",
       "       0.37511072])"
      ]
     },
     "execution_count": 49,
     "metadata": {},
     "output_type": "execute_result"
    }
   ],
   "source": [
    "lr_pred"
   ]
  },
  {
   "cell_type": "code",
   "execution_count": 50,
   "id": "9693adc4",
   "metadata": {},
   "outputs": [
    {
     "data": {
      "text/html": [
       "<div>\n",
       "<style scoped>\n",
       "    .dataframe tbody tr th:only-of-type {\n",
       "        vertical-align: middle;\n",
       "    }\n",
       "\n",
       "    .dataframe tbody tr th {\n",
       "        vertical-align: top;\n",
       "    }\n",
       "\n",
       "    .dataframe thead th {\n",
       "        text-align: right;\n",
       "    }\n",
       "</style>\n",
       "<table border=\"1\" class=\"dataframe\">\n",
       "  <thead>\n",
       "    <tr style=\"text-align: right;\">\n",
       "      <th></th>\n",
       "      <th>pred</th>\n",
       "      <th>real</th>\n",
       "    </tr>\n",
       "  </thead>\n",
       "  <tbody>\n",
       "    <tr>\n",
       "      <th>21958</th>\n",
       "      <td>0.588228</td>\n",
       "      <td>0.6222</td>\n",
       "    </tr>\n",
       "    <tr>\n",
       "      <th>662856</th>\n",
       "      <td>0.460149</td>\n",
       "      <td>0.5161</td>\n",
       "    </tr>\n",
       "    <tr>\n",
       "      <th>639729</th>\n",
       "      <td>0.324976</td>\n",
       "      <td>0.3053</td>\n",
       "    </tr>\n",
       "    <tr>\n",
       "      <th>610850</th>\n",
       "      <td>0.559757</td>\n",
       "      <td>0.6082</td>\n",
       "    </tr>\n",
       "    <tr>\n",
       "      <th>89436</th>\n",
       "      <td>0.078659</td>\n",
       "      <td>0.0417</td>\n",
       "    </tr>\n",
       "  </tbody>\n",
       "</table>\n",
       "</div>"
      ],
      "text/plain": [
       "            pred    real\n",
       "21958   0.588228  0.6222\n",
       "662856  0.460149  0.5161\n",
       "639729  0.324976  0.3053\n",
       "610850  0.559757  0.6082\n",
       "89436   0.078659  0.0417"
      ]
     },
     "execution_count": 50,
     "metadata": {},
     "output_type": "execute_result"
    }
   ],
   "source": [
    "result = pd.DataFrame({'pred' : lr_pred, 'real' : y_test})\n",
    "\n",
    "result.head()"
   ]
  },
  {
   "cell_type": "code",
   "execution_count": 51,
   "id": "fb3dac64",
   "metadata": {},
   "outputs": [
    {
     "data": {
      "image/png": "[encoded data removed]",
      "text/plain": [
       "<Figure size 432x288 with 1 Axes>"
      ]
     },
     "metadata": {
      "needs_background": "light"
     },
     "output_type": "display_data"
    }
   ],
   "source": [
    "plt.plot(np.array(lr_pred),label = \"pred\")\n",
    "plt.plot(np.array(y_test),label = \"true\")\n",
    "plt.legend()\n",
    "plt.show()"
   ]
  },
  {
   "cell_type": "code",
   "execution_count": 52,
   "id": "af77935f",
   "metadata": {},
   "outputs": [
    {
     "data": {
      "image/png": "[encoded data removed]",
      "text/plain": [
       "<Figure size 432x288 with 1 Axes>"
      ]
     },
     "metadata": {
      "needs_background": "light"
     },
     "output_type": "display_data"
    }
   ],
   "source": [
    "plt.plot(np.array(lr_pred),label = \"pred\")\n",
    "plt.plot(np.array(y_test),label = \"true\")\n",
    "plt.xlim(138700,140000)\n",
    "plt.legend()\n",
    "plt.show()"
   ]
  },
  {
   "cell_type": "markdown",
   "id": "d4d0877e",
   "metadata": {},
   "source": [
    "### 2) Random Forest"
   ]
  },
  {
   "cell_type": "code",
   "execution_count": 53,
   "id": "e29b888b",
   "metadata": {},
   "outputs": [
    {
     "name": "stdout",
     "output_type": "stream",
     "text": [
      "Random Forest Train Score: 0.9852837655290525\n",
      "Random Forest Test Score: 0.9206408045304401\n"
     ]
    }
   ],
   "source": [
    "from sklearn.ensemble import RandomForestRegressor\n",
    "\n",
    "model_rf = RandomForestRegressor(n_estimators=10)\n",
    "\n",
    "forest = model_rf.fit(X_train,y_train)\n",
    "\n",
    "print(\"Random Forest Train Score:\", forest.score(X_train, y_train))\n",
    "print(\"Random Forest Test Score:\", forest.score(X_test, y_test))"
   ]
  },
  {
   "cell_type": "code",
   "execution_count": 54,
   "id": "96a45917",
   "metadata": {},
   "outputs": [
    {
     "name": "stdout",
     "output_type": "stream",
     "text": [
      "Random Forest Train Score: 0.9682168199186253\n",
      "Random Forest Test Score: 0.9311660609926987\n"
     ]
    }
   ],
   "source": [
    "# 너무 과적합 같아서 tree의 개수 늘림(https://www.kaggle.com/code/carlolepelaars/pubg-data-exploration-rf-funny-gifs#Final-Random-Forest-Model-)\n",
    "# 근데 비슷,,,\n",
    "from sklearn.ensemble import RandomForestRegressor\n",
    "\n",
    "model_rf = RandomForestRegressor(n_estimators=70, min_samples_leaf=3, max_features=0.5, n_jobs=-1)\n",
    "\n",
    "forest = model_rf.fit(X_train,y_train)\n",
    "\n",
    "print(\"Random Forest Train Score:\", forest.score(X_train, y_train))\n",
    "print(\"Random Forest Test Score:\", forest.score(X_test, y_test))"
   ]
  },
  {
   "cell_type": "code",
   "execution_count": 55,
   "id": "1893d6f1",
   "metadata": {},
   "outputs": [],
   "source": [
    "pred_rf = forest.predict(X_test)"
   ]
  },
  {
   "cell_type": "code",
   "execution_count": 56,
   "id": "89d520bc",
   "metadata": {},
   "outputs": [
    {
     "data": {
      "text/html": [
       "<div>\n",
       "<style scoped>\n",
       "    .dataframe tbody tr th:only-of-type {\n",
       "        vertical-align: middle;\n",
       "    }\n",
       "\n",
       "    .dataframe tbody tr th {\n",
       "        vertical-align: top;\n",
       "    }\n",
       "\n",
       "    .dataframe thead th {\n",
       "        text-align: right;\n",
       "    }\n",
       "</style>\n",
       "<table border=\"1\" class=\"dataframe\">\n",
       "  <thead>\n",
       "    <tr style=\"text-align: right;\">\n",
       "      <th></th>\n",
       "      <th>pred</th>\n",
       "      <th>real</th>\n",
       "    </tr>\n",
       "  </thead>\n",
       "  <tbody>\n",
       "    <tr>\n",
       "      <th>21958</th>\n",
       "      <td>0.690752</td>\n",
       "      <td>0.6222</td>\n",
       "    </tr>\n",
       "    <tr>\n",
       "      <th>662856</th>\n",
       "      <td>0.469227</td>\n",
       "      <td>0.5161</td>\n",
       "    </tr>\n",
       "    <tr>\n",
       "      <th>639729</th>\n",
       "      <td>0.326440</td>\n",
       "      <td>0.3053</td>\n",
       "    </tr>\n",
       "    <tr>\n",
       "      <th>610850</th>\n",
       "      <td>0.623893</td>\n",
       "      <td>0.6082</td>\n",
       "    </tr>\n",
       "    <tr>\n",
       "      <th>89436</th>\n",
       "      <td>0.058956</td>\n",
       "      <td>0.0417</td>\n",
       "    </tr>\n",
       "  </tbody>\n",
       "</table>\n",
       "</div>"
      ],
      "text/plain": [
       "            pred    real\n",
       "21958   0.690752  0.6222\n",
       "662856  0.469227  0.5161\n",
       "639729  0.326440  0.3053\n",
       "610850  0.623893  0.6082\n",
       "89436   0.058956  0.0417"
      ]
     },
     "execution_count": 56,
     "metadata": {},
     "output_type": "execute_result"
    }
   ],
   "source": [
    "result = pd.DataFrame({'pred' : pred_rf, 'real' : y_test})\n",
    "\n",
    "result.head()"
   ]
  },
  {
   "cell_type": "code",
   "execution_count": 57,
   "id": "e0fd858b",
   "metadata": {
    "scrolled": true
   },
   "outputs": [
    {
     "name": "stdout",
     "output_type": "stream",
     "text": [
      "Random Forest 모델의 mae 값 :  0.05603737085303345\n"
     ]
    }
   ],
   "source": [
    "mae = mean_absolute_error(y_test, pred_rf)\n",
    "print(\"Random Forest 모델의 mae 값 : \", mae)"
   ]
  },
  {
   "cell_type": "code",
   "execution_count": 58,
   "id": "62695489",
   "metadata": {
    "scrolled": true
   },
   "outputs": [
    {
     "data": {
      "text/plain": [
       "[0.014153566520649273,\n",
       " 0.2657267830333784,\n",
       " 0.001811408167788382,\n",
       " 0.011175155326153161,\n",
       " 5.583039440585018e-05,\n",
       " 2.8827563102134396e-05,\n",
       " 0.47596938895425517,\n",
       " 0.1509725914863572,\n",
       " 0.0009380064016398416,\n",
       " 0.06494837547906086,\n",
       " 0.014220066673209714]"
      ]
     },
     "execution_count": 58,
     "metadata": {},
     "output_type": "execute_result"
    }
   ],
   "source": [
    "# 변수 간 중요도\n",
    "list(forest.feature_importances_)"
   ]
  },
  {
   "cell_type": "code",
   "execution_count": 59,
   "id": "6a60e618",
   "metadata": {},
   "outputs": [
    {
     "data": {
      "image/png": "[encoded data removed]",
      "text/plain": [
       "<Figure size 720x432 with 1 Axes>"
      ]
     },
     "metadata": {
      "needs_background": "light"
     },
     "output_type": "display_data"
    }
   ],
   "source": [
    "feature_importance = pd.DataFrame(sorted(zip(forest.feature_importances_, X_train.columns)), columns=['Value','Feature'])\n",
    "\n",
    "plt.figure(figsize=(10, 6))\n",
    "sns.barplot(x=\"Value\", y=\"Feature\", data=feature_importance.sort_values(by=\"Value\", ascending=False))\n",
    "plt.title('Random Forest Features (avg over folds)')\n",
    "plt.tight_layout() "
   ]
  },
  {
   "cell_type": "markdown",
   "id": "5a1c7a44",
   "metadata": {},
   "source": [
    "### 2-1) RF gridsearchCV"
   ]
  },
  {
   "cell_type": "code",
   "execution_count": 171,
   "id": "d2c9812b",
   "metadata": {},
   "outputs": [],
   "source": [
    "from sklearn.model_selection import GridSearchCV\n",
    "\n",
    "forest_reg = RandomForestRegressor()\n",
    "\n",
    "param_grid = {\n",
    "    'n_estimators': [10, 30, 70], \n",
    "    'max_features': [2, 4, 6, 8], \n",
    "    'max_depth': [5, 10, 15],\n",
    "    'min_samples_leaf': [2, 6, 10],\n",
    "    'min_samples_split': [2, 6, 10]\n",
    "    }"
   ]
  },
  {
   "cell_type": "code",
   "execution_count": 172,
   "id": "c176641d",
   "metadata": {},
   "outputs": [],
   "source": [
    "rf_reg_tuned = GridSearchCV(estimator = forest_reg,\n",
    "                           param_grid = param_grid,\n",
    "                           cv = 3,\n",
    "                           n_jobs = -1,\n",
    "                           verbose = 2)"
   ]
  },
  {
   "cell_type": "code",
   "execution_count": 174,
   "id": "ad13cb18",
   "metadata": {},
   "outputs": [
    {
     "ename": "AttributeError",
     "evalue": "'GridSearchCV' object has no attribute 'best_estimator'",
     "output_type": "error",
     "traceback": [
      "\u001b[1;31m---------------------------------------------------------------------------\u001b[0m",
      "\u001b[1;31mAttributeError\u001b[0m                            Traceback (most recent call last)",
      "\u001b[1;32m~\\AppData\\Local\\Temp\\ipykernel_18204\\1438724176.py\u001b[0m in \u001b[0;36m<module>\u001b[1;34m\u001b[0m\n\u001b[1;32m----> 1\u001b[1;33m \u001b[0mrf_reg_tuned\u001b[0m\u001b[1;33m.\u001b[0m\u001b[0mbest_estimator\u001b[0m\u001b[1;33m\u001b[0m\u001b[1;33m\u001b[0m\u001b[0m\n\u001b[0m",
      "\u001b[1;31mAttributeError\u001b[0m: 'GridSearchCV' object has no attribute 'best_estimator'"
     ]
    }
   ],
   "source": [
    "rf_reg_tuned.best_estimator"
   ]
  },
  {
   "cell_type": "markdown",
   "id": "06c19e44",
   "metadata": {},
   "source": [
    "### 3) lightgbm"
   ]
  },
  {
   "cell_type": "code",
   "execution_count": 101,
   "id": "fec5b928",
   "metadata": {},
   "outputs": [
    {
     "name": "stderr",
     "output_type": "stream",
     "text": [
      "'early_stopping_rounds' argument is deprecated and will be removed in a future release of LightGBM. Pass 'early_stopping()' callback via 'callbacks' argument instead.\n",
      "'verbose_eval' argument is deprecated and will be removed in a future release of LightGBM. Pass 'log_evaluation()' callback via 'callbacks' argument instead.\n"
     ]
    },
    {
     "name": "stdout",
     "output_type": "stream",
     "text": [
      "[LightGBM] [Warning] Auto-choosing row-wise multi-threading, the overhead of testing was 0.020383 seconds.\n",
      "You can set `force_row_wise=true` to remove the overhead.\n",
      "And if memory is not enough, you can set `force_col_wise=true`.\n",
      "[LightGBM] [Info] Total Bins 1702\n",
      "[LightGBM] [Info] Number of data points in the train set: 561931, number of used features: 14\n",
      "[LightGBM] [Info] Start training from score 0.497609\n",
      "Training until validation scores don't improve for 500 rounds\n",
      "[100]\tvalid_0's l2: 0.0163578\n",
      "[200]\tvalid_0's l2: 0.00655011\n",
      "[300]\tvalid_0's l2: 0.00497376\n",
      "[400]\tvalid_0's l2: 0.0046121\n",
      "[500]\tvalid_0's l2: 0.00448826\n",
      "[600]\tvalid_0's l2: 0.00442697\n",
      "[700]\tvalid_0's l2: 0.00439459\n",
      "[800]\tvalid_0's l2: 0.00437547\n",
      "[900]\tvalid_0's l2: 0.00436351\n",
      "[1000]\tvalid_0's l2: 0.00435434\n",
      "Did not meet early stopping. Best iteration is:\n",
      "[1000]\tvalid_0's l2: 0.00435434\n"
     ]
    }
   ],
   "source": [
    "import lightgbm as lgb\n",
    "train_lgb = lgb.Dataset(X_train, label = y_train) \n",
    "test_lgb = lgb.Dataset(X_test, label = y_test) \n",
    "\n",
    "params = {'learning_rate': 0.01, \n",
    "          'max_depth': 16, \n",
    "          'boosting': 'gbdt', \n",
    "          'objective': 'regression', \n",
    "          'metric': 'mse', \n",
    "          'is_training_metric': True, \n",
    "          'num_leaves': 144, \n",
    "          'feature_fraction': 0.9, \n",
    "          'bagging_fraction': 0.7, \n",
    "          'bagging_freq': 5, \n",
    "          'seed':2020}\n",
    "\n",
    "model_lgb = lgb.train(params, train_lgb, 1000, test_lgb, verbose_eval=100, early_stopping_rounds=500)\n",
    "predict_lgb_train = model_lgb.predict(X_train)\n",
    "predict_lgb_test = model_lgb.predict(X_test)"
   ]
  },
  {
   "cell_type": "code",
   "execution_count": 102,
   "id": "6b53a328",
   "metadata": {},
   "outputs": [
    {
     "ename": "AttributeError",
     "evalue": "'Booster' object has no attribute 'feature_importances_'",
     "output_type": "error",
     "traceback": [
      "\u001b[1;31m---------------------------------------------------------------------------\u001b[0m",
      "\u001b[1;31mAttributeError\u001b[0m                            Traceback (most recent call last)",
      "\u001b[1;32m~\\AppData\\Local\\Temp\\ipykernel_3180\\3225859719.py\u001b[0m in \u001b[0;36m<module>\u001b[1;34m\u001b[0m\n\u001b[1;32m----> 1\u001b[1;33m \u001b[0mpd\u001b[0m\u001b[1;33m.\u001b[0m\u001b[0mDataFrame\u001b[0m\u001b[1;33m(\u001b[0m\u001b[0msorted\u001b[0m\u001b[1;33m(\u001b[0m\u001b[0mzip\u001b[0m\u001b[1;33m(\u001b[0m\u001b[0mmodel_lgb\u001b[0m\u001b[1;33m.\u001b[0m\u001b[0mfeature_importances_\u001b[0m\u001b[1;33m,\u001b[0m \u001b[0mX_train\u001b[0m\u001b[1;33m.\u001b[0m\u001b[0mcolumns\u001b[0m\u001b[1;33m)\u001b[0m\u001b[1;33m)\u001b[0m\u001b[1;33m)\u001b[0m\u001b[1;33m\u001b[0m\u001b[1;33m\u001b[0m\u001b[0m\n\u001b[0m",
      "\u001b[1;31mAttributeError\u001b[0m: 'Booster' object has no attribute 'feature_importances_'"
     ]
    }
   ],
   "source": [
    "pd.DataFrame(sorted(zip(model_lgb.feature_importances_, X_train.columns)))"
   ]
  },
  {
   "cell_type": "code",
   "execution_count": 103,
   "id": "c997320e",
   "metadata": {},
   "outputs": [
    {
     "name": "stdout",
     "output_type": "stream",
     "text": [
      "lightgbm 모델의 mae 값 :  0.04695652852942008\n"
     ]
    }
   ],
   "source": [
    "mae = mean_absolute_error(y_test,predict_lgb_test)\n",
    "print(\"lightgbm 모델의 mae 값 : \", mae)"
   ]
  },
  {
   "cell_type": "code",
   "execution_count": 104,
   "id": "e92eb6e8",
   "metadata": {},
   "outputs": [
    {
     "name": "stdout",
     "output_type": "stream",
     "text": [
      "RMSE: 0.06598744748443758\n"
     ]
    }
   ],
   "source": [
    "from sklearn.metrics import mean_squared_error\n",
    "import math\n",
    "\n",
    "print(\"RMSE: {}\".format(math.sqrt(mean_squared_error(predict_lgb_test, y_test)))) # RMSE"
   ]
  },
  {
   "cell_type": "code",
   "execution_count": 105,
   "id": "81e56078",
   "metadata": {},
   "outputs": [],
   "source": [
    "from sklearn.metrics import mean_squared_error, r2_score\n",
    "\n",
    "mse = mean_squared_error(y_test, predict_lgb_test)\n",
    "r2 = r2_score(y_test, predict_lgb_test)"
   ]
  },
  {
   "cell_type": "code",
   "execution_count": 106,
   "id": "5d426859",
   "metadata": {},
   "outputs": [
    {
     "name": "stdout",
     "output_type": "stream",
     "text": [
      "mse: 0.004354343225511407\n",
      "r2:  0.9489704129292319\n"
     ]
    }
   ],
   "source": [
    "print(\"mse:\", mse)\n",
    "print(\"r2: \", r2)"
   ]
  },
  {
   "cell_type": "code",
   "execution_count": null,
   "id": "beb890fc",
   "metadata": {},
   "outputs": [],
   "source": [
    "explainer = shap.Explainer(model_lgb)\n",
    "shap_values = explainer(X_test)\n",
    "\n",
    "shap.plots.waterfall(shap_values[0])"
   ]
  },
  {
   "cell_type": "code",
   "execution_count": null,
   "id": "101ba80b",
   "metadata": {},
   "outputs": [],
   "source": [
    "## https://www.kaggle.com/code/plasticgrammer/pubg-finish-placement-prediction-playground#Predict"
   ]
  },
  {
   "cell_type": "markdown",
   "id": "bda6dbef",
   "metadata": {},
   "source": [
    "### 3-2) lightgbm gridsearhCV"
   ]
  },
  {
   "cell_type": "code",
   "execution_count": 150,
   "id": "8b42e933",
   "metadata": {},
   "outputs": [],
   "source": [
    "from sklearn.model_selection import GridSearchCV"
   ]
  },
  {
   "cell_type": "code",
   "execution_count": 148,
   "id": "dd75caba",
   "metadata": {},
   "outputs": [],
   "source": [
    "def find_best_hyperparameters(model):\n",
    "    # Grid parameters for using in Gridsearch while tuning\n",
    "    gridParams = {\n",
    "        'learning_rate'         : [0.1, 0.01 , 0.05],\n",
    "        'n_estimators '         : [1000, 10000, 20000],\n",
    "        'bagging_fraction'      : [0.5, 0.6 ,0.7],\n",
    "        'feature_fraction'      : [0.5, 0.6 ,0.7],\n",
    "        'num_leaves'            : [31, 80, 140]\n",
    "    }\n",
    "    # Create the grid\n",
    "    grid = GridSearchCV(model, \n",
    "                        gridParams,\n",
    "                        verbose=5,\n",
    "                        cv=3)\n",
    "    # Run the grid\n",
    "    grid.fit(X_train, y_train)\n",
    "    print('Best parameters: %s' % grid.best_params_)\n",
    "    print('Accuracy: %.2f' % grid.best_score_)\n",
    "    return"
   ]
  },
  {
   "cell_type": "code",
   "execution_count": 151,
   "id": "81b9cf83",
   "metadata": {},
   "outputs": [
    {
     "ename": "TypeError",
     "evalue": "estimator should be an estimator implementing 'fit' method, <lightgbm.basic.Booster object at 0x000001EA76041F88> was passed",
     "output_type": "error",
     "traceback": [
      "\u001b[1;31m---------------------------------------------------------------------------\u001b[0m",
      "\u001b[1;31mTypeError\u001b[0m                                 Traceback (most recent call last)",
      "\u001b[1;32m~\\AppData\\Local\\Temp\\ipykernel_18204\\3088506349.py\u001b[0m in \u001b[0;36m<module>\u001b[1;34m\u001b[0m\n\u001b[1;32m----> 1\u001b[1;33m \u001b[0mfind_best_hyperparameters\u001b[0m\u001b[1;33m(\u001b[0m\u001b[0mmodel_lgb\u001b[0m\u001b[1;33m)\u001b[0m\u001b[1;33m\u001b[0m\u001b[1;33m\u001b[0m\u001b[0m\n\u001b[0m",
      "\u001b[1;32m~\\AppData\\Local\\Temp\\ipykernel_18204\\3070149365.py\u001b[0m in \u001b[0;36mfind_best_hyperparameters\u001b[1;34m(model)\u001b[0m\n\u001b[0;32m     14\u001b[0m                         cv=3)\n\u001b[0;32m     15\u001b[0m     \u001b[1;31m# Run the grid\u001b[0m\u001b[1;33m\u001b[0m\u001b[1;33m\u001b[0m\u001b[1;33m\u001b[0m\u001b[0m\n\u001b[1;32m---> 16\u001b[1;33m     \u001b[0mgrid\u001b[0m\u001b[1;33m.\u001b[0m\u001b[0mfit\u001b[0m\u001b[1;33m(\u001b[0m\u001b[0mX_train\u001b[0m\u001b[1;33m,\u001b[0m \u001b[0my_train\u001b[0m\u001b[1;33m)\u001b[0m\u001b[1;33m\u001b[0m\u001b[1;33m\u001b[0m\u001b[0m\n\u001b[0m\u001b[0;32m     17\u001b[0m     \u001b[0mprint\u001b[0m\u001b[1;33m(\u001b[0m\u001b[1;34m'Best parameters: %s'\u001b[0m \u001b[1;33m%\u001b[0m \u001b[0mgrid\u001b[0m\u001b[1;33m.\u001b[0m\u001b[0mbest_params_\u001b[0m\u001b[1;33m)\u001b[0m\u001b[1;33m\u001b[0m\u001b[1;33m\u001b[0m\u001b[0m\n\u001b[0;32m     18\u001b[0m     \u001b[0mprint\u001b[0m\u001b[1;33m(\u001b[0m\u001b[1;34m'Accuracy: %.2f'\u001b[0m \u001b[1;33m%\u001b[0m \u001b[0mgrid\u001b[0m\u001b[1;33m.\u001b[0m\u001b[0mbest_score_\u001b[0m\u001b[1;33m)\u001b[0m\u001b[1;33m\u001b[0m\u001b[1;33m\u001b[0m\u001b[0m\n",
      "\u001b[1;32m~\\AppData\\Roaming\\Python\\Python37\\site-packages\\sklearn\\utils\\validation.py\u001b[0m in \u001b[0;36minner_f\u001b[1;34m(*args, **kwargs)\u001b[0m\n\u001b[0;32m     70\u001b[0m                           FutureWarning)\n\u001b[0;32m     71\u001b[0m         \u001b[0mkwargs\u001b[0m\u001b[1;33m.\u001b[0m\u001b[0mupdate\u001b[0m\u001b[1;33m(\u001b[0m\u001b[1;33m{\u001b[0m\u001b[0mk\u001b[0m\u001b[1;33m:\u001b[0m \u001b[0marg\u001b[0m \u001b[1;32mfor\u001b[0m \u001b[0mk\u001b[0m\u001b[1;33m,\u001b[0m \u001b[0marg\u001b[0m \u001b[1;32min\u001b[0m \u001b[0mzip\u001b[0m\u001b[1;33m(\u001b[0m\u001b[0msig\u001b[0m\u001b[1;33m.\u001b[0m\u001b[0mparameters\u001b[0m\u001b[1;33m,\u001b[0m \u001b[0margs\u001b[0m\u001b[1;33m)\u001b[0m\u001b[1;33m}\u001b[0m\u001b[1;33m)\u001b[0m\u001b[1;33m\u001b[0m\u001b[1;33m\u001b[0m\u001b[0m\n\u001b[1;32m---> 72\u001b[1;33m         \u001b[1;32mreturn\u001b[0m \u001b[0mf\u001b[0m\u001b[1;33m(\u001b[0m\u001b[1;33m**\u001b[0m\u001b[0mkwargs\u001b[0m\u001b[1;33m)\u001b[0m\u001b[1;33m\u001b[0m\u001b[1;33m\u001b[0m\u001b[0m\n\u001b[0m\u001b[0;32m     73\u001b[0m     \u001b[1;32mreturn\u001b[0m \u001b[0minner_f\u001b[0m\u001b[1;33m\u001b[0m\u001b[1;33m\u001b[0m\u001b[0m\n\u001b[0;32m     74\u001b[0m \u001b[1;33m\u001b[0m\u001b[0m\n",
      "\u001b[1;32m~\\AppData\\Roaming\\Python\\Python37\\site-packages\\sklearn\\model_selection\\_search.py\u001b[0m in \u001b[0;36mfit\u001b[1;34m(self, X, y, groups, **fit_params)\u001b[0m\n\u001b[0;32m    653\u001b[0m \u001b[1;33m\u001b[0m\u001b[0m\n\u001b[0;32m    654\u001b[0m         scorers, self.multimetric_ = _check_multimetric_scoring(\n\u001b[1;32m--> 655\u001b[1;33m             self.estimator, scoring=self.scoring)\n\u001b[0m\u001b[0;32m    656\u001b[0m \u001b[1;33m\u001b[0m\u001b[0m\n\u001b[0;32m    657\u001b[0m         \u001b[1;32mif\u001b[0m \u001b[0mself\u001b[0m\u001b[1;33m.\u001b[0m\u001b[0mmultimetric_\u001b[0m\u001b[1;33m:\u001b[0m\u001b[1;33m\u001b[0m\u001b[1;33m\u001b[0m\u001b[0m\n",
      "\u001b[1;32m~\\AppData\\Roaming\\Python\\Python37\\site-packages\\sklearn\\metrics\\_scorer.py\u001b[0m in \u001b[0;36m_check_multimetric_scoring\u001b[1;34m(estimator, scoring)\u001b[0m\n\u001b[0;32m    473\u001b[0m     if callable(scoring) or scoring is None or isinstance(scoring,\n\u001b[0;32m    474\u001b[0m                                                           str):\n\u001b[1;32m--> 475\u001b[1;33m         \u001b[0mscorers\u001b[0m \u001b[1;33m=\u001b[0m \u001b[1;33m{\u001b[0m\u001b[1;34m\"score\"\u001b[0m\u001b[1;33m:\u001b[0m \u001b[0mcheck_scoring\u001b[0m\u001b[1;33m(\u001b[0m\u001b[0mestimator\u001b[0m\u001b[1;33m,\u001b[0m \u001b[0mscoring\u001b[0m\u001b[1;33m=\u001b[0m\u001b[0mscoring\u001b[0m\u001b[1;33m)\u001b[0m\u001b[1;33m}\u001b[0m\u001b[1;33m\u001b[0m\u001b[1;33m\u001b[0m\u001b[0m\n\u001b[0m\u001b[0;32m    476\u001b[0m         \u001b[1;32mreturn\u001b[0m \u001b[0mscorers\u001b[0m\u001b[1;33m,\u001b[0m \u001b[1;32mFalse\u001b[0m\u001b[1;33m\u001b[0m\u001b[1;33m\u001b[0m\u001b[0m\n\u001b[0;32m    477\u001b[0m     \u001b[1;32melse\u001b[0m\u001b[1;33m:\u001b[0m\u001b[1;33m\u001b[0m\u001b[1;33m\u001b[0m\u001b[0m\n",
      "\u001b[1;32m~\\AppData\\Roaming\\Python\\Python37\\site-packages\\sklearn\\utils\\validation.py\u001b[0m in \u001b[0;36minner_f\u001b[1;34m(*args, **kwargs)\u001b[0m\n\u001b[0;32m     70\u001b[0m                           FutureWarning)\n\u001b[0;32m     71\u001b[0m         \u001b[0mkwargs\u001b[0m\u001b[1;33m.\u001b[0m\u001b[0mupdate\u001b[0m\u001b[1;33m(\u001b[0m\u001b[1;33m{\u001b[0m\u001b[0mk\u001b[0m\u001b[1;33m:\u001b[0m \u001b[0marg\u001b[0m \u001b[1;32mfor\u001b[0m \u001b[0mk\u001b[0m\u001b[1;33m,\u001b[0m \u001b[0marg\u001b[0m \u001b[1;32min\u001b[0m \u001b[0mzip\u001b[0m\u001b[1;33m(\u001b[0m\u001b[0msig\u001b[0m\u001b[1;33m.\u001b[0m\u001b[0mparameters\u001b[0m\u001b[1;33m,\u001b[0m \u001b[0margs\u001b[0m\u001b[1;33m)\u001b[0m\u001b[1;33m}\u001b[0m\u001b[1;33m)\u001b[0m\u001b[1;33m\u001b[0m\u001b[1;33m\u001b[0m\u001b[0m\n\u001b[1;32m---> 72\u001b[1;33m         \u001b[1;32mreturn\u001b[0m \u001b[0mf\u001b[0m\u001b[1;33m(\u001b[0m\u001b[1;33m**\u001b[0m\u001b[0mkwargs\u001b[0m\u001b[1;33m)\u001b[0m\u001b[1;33m\u001b[0m\u001b[1;33m\u001b[0m\u001b[0m\n\u001b[0m\u001b[0;32m     73\u001b[0m     \u001b[1;32mreturn\u001b[0m \u001b[0minner_f\u001b[0m\u001b[1;33m\u001b[0m\u001b[1;33m\u001b[0m\u001b[0m\n\u001b[0;32m     74\u001b[0m \u001b[1;33m\u001b[0m\u001b[0m\n",
      "\u001b[1;32m~\\AppData\\Roaming\\Python\\Python37\\site-packages\\sklearn\\metrics\\_scorer.py\u001b[0m in \u001b[0;36mcheck_scoring\u001b[1;34m(estimator, scoring, allow_none)\u001b[0m\n\u001b[0;32m    401\u001b[0m     \u001b[1;32mif\u001b[0m \u001b[1;32mnot\u001b[0m \u001b[0mhasattr\u001b[0m\u001b[1;33m(\u001b[0m\u001b[0mestimator\u001b[0m\u001b[1;33m,\u001b[0m \u001b[1;34m'fit'\u001b[0m\u001b[1;33m)\u001b[0m\u001b[1;33m:\u001b[0m\u001b[1;33m\u001b[0m\u001b[1;33m\u001b[0m\u001b[0m\n\u001b[0;32m    402\u001b[0m         raise TypeError(\"estimator should be an estimator implementing \"\n\u001b[1;32m--> 403\u001b[1;33m                         \"'fit' method, %r was passed\" % estimator)\n\u001b[0m\u001b[0;32m    404\u001b[0m     \u001b[1;32mif\u001b[0m \u001b[0misinstance\u001b[0m\u001b[1;33m(\u001b[0m\u001b[0mscoring\u001b[0m\u001b[1;33m,\u001b[0m \u001b[0mstr\u001b[0m\u001b[1;33m)\u001b[0m\u001b[1;33m:\u001b[0m\u001b[1;33m\u001b[0m\u001b[1;33m\u001b[0m\u001b[0m\n\u001b[0;32m    405\u001b[0m         \u001b[1;32mreturn\u001b[0m \u001b[0mget_scorer\u001b[0m\u001b[1;33m(\u001b[0m\u001b[0mscoring\u001b[0m\u001b[1;33m)\u001b[0m\u001b[1;33m\u001b[0m\u001b[1;33m\u001b[0m\u001b[0m\n",
      "\u001b[1;31mTypeError\u001b[0m: estimator should be an estimator implementing 'fit' method, <lightgbm.basic.Booster object at 0x000001EA76041F88> was passed"
     ]
    }
   ],
   "source": [
    "find_best_hyperparameters(model_lgb)"
   ]
  },
  {
   "cell_type": "markdown",
   "id": "c558096b",
   "metadata": {},
   "source": [
    "------------------------------------------"
   ]
  },
  {
   "cell_type": "markdown",
   "id": "db446c78",
   "metadata": {},
   "source": [
    "### 3-3) 다른 lgb모델"
   ]
  },
  {
   "cell_type": "code",
   "execution_count": 80,
   "id": "8d8bd095",
   "metadata": {},
   "outputs": [
    {
     "name": "stderr",
     "output_type": "stream",
     "text": [
      "'verbose' argument is deprecated and will be removed in a future release of LightGBM. Pass 'log_evaluation()' callback via 'callbacks' argument instead.\n"
     ]
    },
    {
     "name": "stdout",
     "output_type": "stream",
     "text": [
      "[100]\tvalid_0's l1: 0.0556872\n",
      "[200]\tvalid_0's l1: 0.0551058\n",
      "[300]\tvalid_0's l1: 0.0549045\n",
      "[400]\tvalid_0's l1: 0.0548148\n",
      "[500]\tvalid_0's l1: 0.0547603\n",
      "[600]\tvalid_0's l1: 0.0547295\n",
      "[700]\tvalid_0's l1: 0.054709\n",
      "[800]\tvalid_0's l1: 0.0546738\n",
      "[900]\tvalid_0's l1: 0.0546643\n",
      "[1000]\tvalid_0's l1: 0.054655\n"
     ]
    }
   ],
   "source": [
    "from lightgbm import LGBMRegressor\n",
    "params = {\n",
    "    'n_estimators': 1000,\n",
    "    'learning_rate': 0.1, \n",
    "    'num_leaves': 20,\n",
    "    'objective': 'regression_l2', \n",
    "    'metric': 'mae',\n",
    "    'verbose': -1,\n",
    "}\n",
    "\n",
    "model_lgb = LGBMRegressor(**params)\n",
    "model_lgb = model_lgb.fit(X_train, y_train, eval_set=[(X_test, y_test)], eval_metric='mae', verbose=100)"
   ]
  },
  {
   "cell_type": "code",
   "execution_count": 81,
   "id": "7a591209",
   "metadata": {},
   "outputs": [
    {
     "data": {
      "image/png": "[encoded data removed]",
      "text/plain": [
       "<Figure size 720x432 with 1 Axes>"
      ]
     },
     "metadata": {
      "needs_background": "light"
     },
     "output_type": "display_data"
    }
   ],
   "source": [
    "feature_importance = pd.DataFrame(sorted(zip(model_lgb.feature_importances_, X_train.columns)), columns=['Value','Feature'])\n",
    "\n",
    "plt.figure(figsize=(10, 6))\n",
    "sns.barplot(x=\"Value\", y=\"Feature\", data=feature_importance.sort_values(by=\"Value\", ascending=False))\n",
    "plt.title('LightGBM Features (avg over folds)')\n",
    "plt.tight_layout() "
   ]
  },
  {
   "cell_type": "code",
   "execution_count": 82,
   "id": "b01e5608",
   "metadata": {},
   "outputs": [
    {
     "name": "stdout",
     "output_type": "stream",
     "text": [
      "lightgbm Train Score: 0.9381167716747967\n",
      "lightgbm Test Score: 0.9343756795610244\n"
     ]
    }
   ],
   "source": [
    "print(\"lightgbm Train Score:\", model_lgb.score(X_train, y_train))\n",
    "print(\"lightgbm Test Score:\", model_lgb.score(X_test, y_test))"
   ]
  },
  {
   "cell_type": "code",
   "execution_count": 83,
   "id": "0b2193d9",
   "metadata": {},
   "outputs": [],
   "source": [
    "y_pred = model_lgb.predict(X_test)"
   ]
  },
  {
   "cell_type": "code",
   "execution_count": 84,
   "id": "da353f42",
   "metadata": {},
   "outputs": [
    {
     "data": {
      "text/html": [
       "<div>\n",
       "<style scoped>\n",
       "    .dataframe tbody tr th:only-of-type {\n",
       "        vertical-align: middle;\n",
       "    }\n",
       "\n",
       "    .dataframe tbody tr th {\n",
       "        vertical-align: top;\n",
       "    }\n",
       "\n",
       "    .dataframe thead th {\n",
       "        text-align: right;\n",
       "    }\n",
       "</style>\n",
       "<table border=\"1\" class=\"dataframe\">\n",
       "  <thead>\n",
       "    <tr style=\"text-align: right;\">\n",
       "      <th></th>\n",
       "      <th>pred</th>\n",
       "      <th>real</th>\n",
       "    </tr>\n",
       "  </thead>\n",
       "  <tbody>\n",
       "    <tr>\n",
       "      <th>21958</th>\n",
       "      <td>0.676091</td>\n",
       "      <td>0.6222</td>\n",
       "    </tr>\n",
       "    <tr>\n",
       "      <th>662856</th>\n",
       "      <td>0.490233</td>\n",
       "      <td>0.5161</td>\n",
       "    </tr>\n",
       "    <tr>\n",
       "      <th>639729</th>\n",
       "      <td>0.325740</td>\n",
       "      <td>0.3053</td>\n",
       "    </tr>\n",
       "    <tr>\n",
       "      <th>610850</th>\n",
       "      <td>0.611959</td>\n",
       "      <td>0.6082</td>\n",
       "    </tr>\n",
       "    <tr>\n",
       "      <th>89436</th>\n",
       "      <td>0.053711</td>\n",
       "      <td>0.0417</td>\n",
       "    </tr>\n",
       "  </tbody>\n",
       "</table>\n",
       "</div>"
      ],
      "text/plain": [
       "            pred    real\n",
       "21958   0.676091  0.6222\n",
       "662856  0.490233  0.5161\n",
       "639729  0.325740  0.3053\n",
       "610850  0.611959  0.6082\n",
       "89436   0.053711  0.0417"
      ]
     },
     "execution_count": 84,
     "metadata": {},
     "output_type": "execute_result"
    }
   ],
   "source": [
    "result = pd.DataFrame({'pred' : y_pred, 'real' : y_test})\n",
    "\n",
    "result.head()"
   ]
  },
  {
   "cell_type": "code",
   "execution_count": 85,
   "id": "c6184a71",
   "metadata": {},
   "outputs": [
    {
     "name": "stdout",
     "output_type": "stream",
     "text": [
      "lightgbm 모델의 mae 값 :  0.05465501240762358\n"
     ]
    }
   ],
   "source": [
    "mae = mean_absolute_error(y_test, y_pred)\n",
    "print(\"lightgbm 모델의 mae 값 : \", mae)"
   ]
  },
  {
   "cell_type": "code",
   "execution_count": 86,
   "id": "9a3a6604",
   "metadata": {},
   "outputs": [
    {
     "name": "stdout",
     "output_type": "stream",
     "text": [
      "mse: 0.005609325138265135\n",
      "r2:  0.9343756795610244\n"
     ]
    }
   ],
   "source": [
    "from sklearn.metrics import mean_squared_error, r2_score\n",
    "\n",
    "mse = mean_squared_error(y_test, y_pred)\n",
    "r2 = r2_score(y_test, y_pred)\n",
    "print(\"mse:\", mse)\n",
    "print(\"r2: \", r2)"
   ]
  },
  {
   "cell_type": "code",
   "execution_count": 87,
   "id": "5b6a1b4d",
   "metadata": {},
   "outputs": [
    {
     "data": {
      "image/png": "[encoded data removed]",
      "text/plain": [
       "<Figure size 576x468 with 3 Axes>"
      ]
     },
     "metadata": {},
     "output_type": "display_data"
    }
   ],
   "source": [
    "import shap\n",
    "\n",
    "explainer = shap.Explainer(model_lgb)\n",
    "shap_values = explainer(X_test)\n",
    "\n",
    "shap.plots.waterfall(shap_values[0])"
   ]
  },
  {
   "cell_type": "code",
   "execution_count": 88,
   "id": "7360d31d",
   "metadata": {},
   "outputs": [
    {
     "data": {
      "image/png": "[encoded data removed]",
      "text/plain": [
       "<Figure size 576x424.8 with 2 Axes>"
      ]
     },
     "metadata": {
      "needs_background": "light"
     },
     "output_type": "display_data"
    }
   ],
   "source": [
    "shap.summary_plot(shap_values, X_test)"
   ]
  },
  {
   "cell_type": "markdown",
   "id": "c6b3ecf7",
   "metadata": {},
   "source": [
    "### 4) XGboost"
   ]
  },
  {
   "cell_type": "markdown",
   "id": "4961fa5c",
   "metadata": {},
   "source": [
    "#### 4-1) totalDistance 삭제"
   ]
  },
  {
   "cell_type": "code",
   "execution_count": 89,
   "id": "c90e0726",
   "metadata": {},
   "outputs": [
    {
     "data": {
      "text/html": [
       "<div>\n",
       "<style scoped>\n",
       "    .dataframe tbody tr th:only-of-type {\n",
       "        vertical-align: middle;\n",
       "    }\n",
       "\n",
       "    .dataframe tbody tr th {\n",
       "        vertical-align: top;\n",
       "    }\n",
       "\n",
       "    .dataframe thead th {\n",
       "        text-align: right;\n",
       "    }\n",
       "</style>\n",
       "<table border=\"1\" class=\"dataframe\">\n",
       "  <thead>\n",
       "    <tr style=\"text-align: right;\">\n",
       "      <th></th>\n",
       "      <th>VIF Factor</th>\n",
       "      <th>features</th>\n",
       "    </tr>\n",
       "  </thead>\n",
       "  <tbody>\n",
       "    <tr>\n",
       "      <th>0</th>\n",
       "      <td>8.692121</td>\n",
       "      <td>damageDealt</td>\n",
       "    </tr>\n",
       "    <tr>\n",
       "      <th>1</th>\n",
       "      <td>6.604295</td>\n",
       "      <td>kills_over_match_cnt</td>\n",
       "    </tr>\n",
       "    <tr>\n",
       "      <th>2</th>\n",
       "      <td>5.053634</td>\n",
       "      <td>walkDistance</td>\n",
       "    </tr>\n",
       "    <tr>\n",
       "      <th>3</th>\n",
       "      <td>4.887171</td>\n",
       "      <td>killStreaks</td>\n",
       "    </tr>\n",
       "    <tr>\n",
       "      <th>4</th>\n",
       "      <td>4.784653</td>\n",
       "      <td>items</td>\n",
       "    </tr>\n",
       "    <tr>\n",
       "      <th>5</th>\n",
       "      <td>3.139978</td>\n",
       "      <td>workDistance_over_kills</td>\n",
       "    </tr>\n",
       "    <tr>\n",
       "      <th>6</th>\n",
       "      <td>2.268043</td>\n",
       "      <td>longestKill</td>\n",
       "    </tr>\n",
       "    <tr>\n",
       "      <th>7</th>\n",
       "      <td>1.487907</td>\n",
       "      <td>headshots_over_kills</td>\n",
       "    </tr>\n",
       "    <tr>\n",
       "      <th>8</th>\n",
       "      <td>1.359797</td>\n",
       "      <td>killPlace</td>\n",
       "    </tr>\n",
       "    <tr>\n",
       "      <th>9</th>\n",
       "      <td>1.308628</td>\n",
       "      <td>rideDistance</td>\n",
       "    </tr>\n",
       "    <tr>\n",
       "      <th>10</th>\n",
       "      <td>1.060548</td>\n",
       "      <td>swimDistance</td>\n",
       "    </tr>\n",
       "    <tr>\n",
       "      <th>11</th>\n",
       "      <td>1.039938</td>\n",
       "      <td>roadKills</td>\n",
       "    </tr>\n",
       "    <tr>\n",
       "      <th>12</th>\n",
       "      <td>1.021505</td>\n",
       "      <td>vehicleDestroys</td>\n",
       "    </tr>\n",
       "  </tbody>\n",
       "</table>\n",
       "</div>"
      ],
      "text/plain": [
       "    VIF Factor                 features\n",
       "0     8.692121              damageDealt\n",
       "1     6.604295     kills_over_match_cnt\n",
       "2     5.053634             walkDistance\n",
       "3     4.887171              killStreaks\n",
       "4     4.784653                    items\n",
       "5     3.139978  workDistance_over_kills\n",
       "6     2.268043              longestKill\n",
       "7     1.487907     headshots_over_kills\n",
       "8     1.359797                killPlace\n",
       "9     1.308628             rideDistance\n",
       "10    1.060548             swimDistance\n",
       "11    1.039938                roadKills\n",
       "12    1.021505          vehicleDestroys"
      ]
     },
     "execution_count": 89,
     "metadata": {},
     "output_type": "execute_result"
    }
   ],
   "source": [
    "vif_drop = ['winPlacePerc', 'heals', 'boosts', 'weaponsAcquired', 'total_heals', 'cnt_per_matchid',\n",
    "            'totalDistance', 'walkDistance_over_heals','headshotKills','maxPlace', \n",
    "            'killPlace_over_maxPlace', 'kills']\n",
    "solo_vif_5 = solo_model.drop(vif_drop, axis = 'columns')\n",
    "\n",
    "from statsmodels.stats.outliers_influence import variance_inflation_factor\n",
    "\n",
    "vif = pd.DataFrame()\n",
    "vif['VIF Factor'] = [variance_inflation_factor(solo_vif_5.values, i) for i in range(solo_vif_5.shape[1])]\n",
    "vif['features'] = solo_vif_5.columns\n",
    "vif = vif.sort_values('VIF Factor', ascending=False).reset_index(drop=True)\n",
    "vif"
   ]
  },
  {
   "cell_type": "code",
   "execution_count": 90,
   "id": "102d8a6f",
   "metadata": {},
   "outputs": [],
   "source": [
    "from sklearn.model_selection import train_test_split\n",
    "from sklearn.linear_model import LinearRegression\n",
    "\n",
    "X_5 = solo_vif_5\n",
    "y_5 = solo_model['winPlacePerc']\n",
    "\n",
    "X_train_5, X_test_5, y_train_5, y_test_5 = train_test_split(X_5, y_5, test_size=0.20)"
   ]
  },
  {
   "cell_type": "code",
   "execution_count": 91,
   "id": "f642fc27",
   "metadata": {},
   "outputs": [],
   "source": [
    "#from xgboost import XGBRegressor\n",
    "from xgboost.sklearn import XGBRegressor\n",
    "\n",
    "xgb_5 = XGBRegressor(max_depth=17, gamma=0.3, learning_rate= 0.1)\n",
    "xgb_5 = xgb_5.fit(X_train_5,y_train_5)"
   ]
  },
  {
   "cell_type": "code",
   "execution_count": 92,
   "id": "d5f0976e",
   "metadata": {},
   "outputs": [
    {
     "name": "stdout",
     "output_type": "stream",
     "text": [
      "XGboost Train Score: 0.9378202080855986\n",
      "XGboost Test Score: 0.936062001103817\n"
     ]
    }
   ],
   "source": [
    "print(\"XGboost Train Score:\", xgb_5.score(X_train_5, y_train_5))\n",
    "print(\"XGboost Test Score:\", xgb_5.score(X_test_5, y_test_5))"
   ]
  },
  {
   "cell_type": "code",
   "execution_count": 93,
   "id": "b3cb7574",
   "metadata": {},
   "outputs": [],
   "source": [
    "y_pred_5 = xgb_5.predict(X_test_5)"
   ]
  },
  {
   "cell_type": "code",
   "execution_count": 94,
   "id": "6120b7e7",
   "metadata": {
    "scrolled": true
   },
   "outputs": [
    {
     "name": "stdout",
     "output_type": "stream",
     "text": [
      "XGboost 모델의 mae 값 :  0.05603737085303345\n"
     ]
    }
   ],
   "source": [
    "mae = mean_absolute_error(y_test, pred_rf)\n",
    "print(\"XGboost 모델의 mae 값 : \", mae)"
   ]
  },
  {
   "cell_type": "code",
   "execution_count": 95,
   "id": "f0c50392",
   "metadata": {},
   "outputs": [
    {
     "name": "stdout",
     "output_type": "stream",
     "text": [
      "mse: 0.16467830077527407\n",
      "r2:  -0.926595680058041\n"
     ]
    }
   ],
   "source": [
    "from sklearn.metrics import mean_squared_error, r2_score\n",
    "\n",
    "mse = mean_squared_error(y_test, y_pred_5)\n",
    "r2 = r2_score(y_test, y_pred_5)\n",
    "print(\"mse:\", mse)\n",
    "print(\"r2: \", r2)"
   ]
  },
  {
   "cell_type": "code",
   "execution_count": 76,
   "id": "203d04ca",
   "metadata": {},
   "outputs": [
    {
     "data": {
      "text/html": [
       "<div>\n",
       "<style scoped>\n",
       "    .dataframe tbody tr th:only-of-type {\n",
       "        vertical-align: middle;\n",
       "    }\n",
       "\n",
       "    .dataframe tbody tr th {\n",
       "        vertical-align: top;\n",
       "    }\n",
       "\n",
       "    .dataframe thead th {\n",
       "        text-align: right;\n",
       "    }\n",
       "</style>\n",
       "<table border=\"1\" class=\"dataframe\">\n",
       "  <thead>\n",
       "    <tr style=\"text-align: right;\">\n",
       "      <th></th>\n",
       "      <th>pred</th>\n",
       "      <th>real</th>\n",
       "    </tr>\n",
       "  </thead>\n",
       "  <tbody>\n",
       "    <tr>\n",
       "      <th>21958</th>\n",
       "      <td>0.009685</td>\n",
       "      <td>0.6222</td>\n",
       "    </tr>\n",
       "    <tr>\n",
       "      <th>662856</th>\n",
       "      <td>0.507787</td>\n",
       "      <td>0.5161</td>\n",
       "    </tr>\n",
       "    <tr>\n",
       "      <th>639729</th>\n",
       "      <td>0.015017</td>\n",
       "      <td>0.3053</td>\n",
       "    </tr>\n",
       "    <tr>\n",
       "      <th>610850</th>\n",
       "      <td>0.967998</td>\n",
       "      <td>0.6082</td>\n",
       "    </tr>\n",
       "    <tr>\n",
       "      <th>89436</th>\n",
       "      <td>0.311453</td>\n",
       "      <td>0.0417</td>\n",
       "    </tr>\n",
       "  </tbody>\n",
       "</table>\n",
       "</div>"
      ],
      "text/plain": [
       "            pred    real\n",
       "21958   0.009685  0.6222\n",
       "662856  0.507787  0.5161\n",
       "639729  0.015017  0.3053\n",
       "610850  0.967998  0.6082\n",
       "89436   0.311453  0.0417"
      ]
     },
     "execution_count": 76,
     "metadata": {},
     "output_type": "execute_result"
    }
   ],
   "source": [
    "result = pd.DataFrame({'pred' : y_pred_5, 'real' : y_test})\n",
    "\n",
    "result.head()"
   ]
  },
  {
   "cell_type": "code",
   "execution_count": 77,
   "id": "2d03b70f",
   "metadata": {},
   "outputs": [
    {
     "data": {
      "text/plain": [
       "array([1.4364253e-03, 4.7022697e-02, 1.6539073e-02, 1.7818867e-03,\n",
       "       1.8290383e-03, 1.2203386e-04, 2.1704526e-03, 1.0301654e-03,\n",
       "       9.1005874e-01, 5.2788621e-03, 5.9560558e-04, 9.3423137e-03,\n",
       "       2.7926958e-03], dtype=float32)"
      ]
     },
     "execution_count": 77,
     "metadata": {},
     "output_type": "execute_result"
    }
   ],
   "source": [
    "from xgboost import plot_importance\n",
    "\n",
    "xgb_5.feature_importances_\n",
    "\n",
    "#xgb.plot_importance(xgb)"
   ]
  },
  {
   "cell_type": "code",
   "execution_count": 78,
   "id": "e78b9402",
   "metadata": {
    "scrolled": false
   },
   "outputs": [
    {
     "name": "stderr",
     "output_type": "stream",
     "text": [
      "ntree_limit is deprecated, use `iteration_range` or model slicing instead.\n"
     ]
    },
    {
     "data": {
      "image/png": "[encoded data removed]",
      "text/plain": [
       "<Figure size 576x468 with 3 Axes>"
      ]
     },
     "metadata": {},
     "output_type": "display_data"
    }
   ],
   "source": [
    "import shap\n",
    "explainer = shap.Explainer(xgb_5)\n",
    "shap_values = explainer(X_test_5)\n",
    "\n",
    "shap.plots.waterfall(shap_values[0])"
   ]
  },
  {
   "cell_type": "code",
   "execution_count": 79,
   "id": "202d7921",
   "metadata": {},
   "outputs": [
    {
     "data": {
      "image/png": "[encoded data removed]",
      "text/plain": [
       "<Figure size 576x482.4 with 2 Axes>"
      ]
     },
     "metadata": {
      "needs_background": "light"
     },
     "output_type": "display_data"
    }
   ],
   "source": [
    "shap.summary_plot(shap_values, X_test_5)"
   ]
  },
  {
   "cell_type": "markdown",
   "id": "286df7c3",
   "metadata": {},
   "source": [
    "-------------------------"
   ]
  },
  {
   "cell_type": "markdown",
   "id": "d6b74940",
   "metadata": {},
   "source": [
    "#### 4-2) walkDistance, rideDistance, swimDistance 삭제"
   ]
  },
  {
   "cell_type": "code",
   "execution_count": 96,
   "id": "9d79dbdd",
   "metadata": {},
   "outputs": [],
   "source": [
    "#from xgboost import XGBRegressor\n",
    "from xgboost.sklearn import XGBRegressor\n",
    "\n",
    "xgb = XGBRegressor(max_depth=17, gamma=0.3, learning_rate= 0.1)\n",
    "xgb = xgb.fit(X_train,y_train)"
   ]
  },
  {
   "cell_type": "code",
   "execution_count": 97,
   "id": "7cf68ca6",
   "metadata": {
    "scrolled": true
   },
   "outputs": [
    {
     "name": "stdout",
     "output_type": "stream",
     "text": [
      "XGboost Train Score: 0.936642416129139\n",
      "XGboost Test Score: 0.9337619623687946\n"
     ]
    }
   ],
   "source": [
    "print(\"XGboost Train Score:\", xgb.score(X_train, y_train))\n",
    "print(\"XGboost Test Score:\", xgb.score(X_test, y_test))"
   ]
  },
  {
   "cell_type": "code",
   "execution_count": 98,
   "id": "93a2f13e",
   "metadata": {},
   "outputs": [],
   "source": [
    "y_pred = xgb.predict(X_test)"
   ]
  },
  {
   "cell_type": "code",
   "execution_count": 99,
   "id": "dca7145f",
   "metadata": {},
   "outputs": [
    {
     "name": "stdout",
     "output_type": "stream",
     "text": [
      "Random Forest 모델의 mae 값 :  0.05603737085303345\n"
     ]
    }
   ],
   "source": [
    "mae = mean_absolute_error(y_test, pred_rf)\n",
    "print(\"Random Forest 모델의 mae 값 : \", mae)"
   ]
  },
  {
   "cell_type": "code",
   "execution_count": 100,
   "id": "92fd516d",
   "metadata": {},
   "outputs": [
    {
     "name": "stdout",
     "output_type": "stream",
     "text": [
      "mse: 0.005661783422802515\n",
      "r2:  0.9337619623687946\n"
     ]
    }
   ],
   "source": [
    "from sklearn.metrics import mean_squared_error, r2_score\n",
    "\n",
    "mse = mean_squared_error(y_test, y_pred)\n",
    "r2 = r2_score(y_test, y_pred)\n",
    "print(\"mse:\", mse)\n",
    "print(\"r2: \", r2)"
   ]
  },
  {
   "cell_type": "code",
   "execution_count": 101,
   "id": "e6c34bfe",
   "metadata": {},
   "outputs": [
    {
     "data": {
      "text/plain": [
       "array([0.00169593, 0.07322405, 0.01896809, 0.00181876, 0.00163307,\n",
       "       0.0011156 , 0.8739945 , 0.00811161, 0.00149911, 0.01469267,\n",
       "       0.00324658], dtype=float32)"
      ]
     },
     "execution_count": 101,
     "metadata": {},
     "output_type": "execute_result"
    }
   ],
   "source": [
    "from xgboost import plot_importance\n",
    "\n",
    "xgb.feature_importances_\n",
    "\n",
    "#xgb.plot_importance(xgb)"
   ]
  },
  {
   "cell_type": "code",
   "execution_count": 102,
   "id": "578eb1b6",
   "metadata": {},
   "outputs": [
    {
     "name": "stderr",
     "output_type": "stream",
     "text": [
      "ntree_limit is deprecated, use `iteration_range` or model slicing instead.\n"
     ]
    },
    {
     "data": {
      "image/png": "[encoded data removed]",
      "text/plain": [
       "<Figure size 576x468 with 3 Axes>"
      ]
     },
     "metadata": {},
     "output_type": "display_data"
    }
   ],
   "source": [
    "import shap\n",
    "explainer = shap.Explainer(xgb)\n",
    "shap_values = explainer(X_test)\n",
    "\n",
    "shap.plots.waterfall(shap_values[0])"
   ]
  },
  {
   "cell_type": "code",
   "execution_count": 103,
   "id": "8b28fd93",
   "metadata": {
    "scrolled": false
   },
   "outputs": [
    {
     "data": {
      "image/png": "[encoded data removed]",
      "text/plain": [
       "<Figure size 576x424.8 with 2 Axes>"
      ]
     },
     "metadata": {
      "needs_background": "light"
     },
     "output_type": "display_data"
    }
   ],
   "source": [
    "shap.summary_plot(shap_values, X_test)"
   ]
  }
 ],
 "metadata": {
  "kernelspec": {
   "display_name": "sel_ker",
   "language": "python",
   "name": "selenium"
  },
  "language_info": {
   "codemirror_mode": {
    "name": "ipython",
    "version": 3
   },
   "file_extension": ".py",
   "mimetype": "text/x-python",
   "name": "python",
   "nbconvert_exporter": "python",
   "pygments_lexer": "ipython3",
   "version": "3.7.11"
  }
 },
 "nbformat": 4,
 "nbformat_minor": 5
}
