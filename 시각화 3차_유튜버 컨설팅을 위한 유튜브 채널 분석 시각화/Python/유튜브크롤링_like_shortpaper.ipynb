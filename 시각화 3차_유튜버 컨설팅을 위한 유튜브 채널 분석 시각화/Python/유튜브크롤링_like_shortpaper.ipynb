{
 "cells": [
  {
   "cell_type": "code",
   "execution_count": 3,
   "metadata": {},
   "outputs": [],
   "source": [
    "from selenium import webdriver\n",
    "from selenium.webdriver.common.keys import Keys\n",
    "from selenium.webdriver.common.by import By\n",
    "from selenium.webdriver.chrome.service import Service\n",
    "import time\n"
   ]
  },
  {
   "cell_type": "code",
   "execution_count": 4,
   "metadata": {},
   "outputs": [
    {
     "name": "stderr",
     "output_type": "stream",
     "text": [
      "C:\\Users\\82104\\AppData\\Local\\Temp\\ipykernel_32080\\537211996.py:1: DeprecationWarning: executable_path has been deprecated, please pass in a Service object\n",
      "  driver = webdriver.Chrome('C:/Users/oty09/Downloads/chromedriver_win32/chromedriver.exe')\n"
     ]
    }
   ],
   "source": [
    "driver = webdriver.Chrome('C:/Users/oty09/Downloads/chromedriver_win32/chromedriver.exe') "
   ]
  },
  {
   "cell_type": "code",
   "execution_count": 5,
   "metadata": {},
   "outputs": [],
   "source": [
    "url = 'https://www.youtube.com/@short_paper/videos'\n",
    "driver.get(url)\n",
    "time.sleep(5)"
   ]
  },
  {
   "cell_type": "code",
   "execution_count": null,
   "metadata": {},
   "outputs": [],
   "source": [
    "for i in range(0,180): # 60초동안 페이지 다운하는 식\n",
    "    driver.find_element(By.TAG_NAME, 'body').send_keys(Keys.PAGE_DOWN) \n",
    "    time.sleep(1)"
   ]
  },
  {
   "cell_type": "code",
   "execution_count": 6,
   "metadata": {},
   "outputs": [],
   "source": [
    "# title & 하이퍼링크 추출\n",
    "titles = driver.find_elements(By.CSS_SELECTOR, '#video-title-link')\n",
    "titlelist = []\n",
    "hreflist = []\n",
    "\n",
    "for i in titles:\n",
    "    title = i.text\n",
    "    titlelist.append(title)\n",
    "    href = i.get_attribute(\"href\")\n",
    "    hreflist.append(href)"
   ]
  },
  {
   "cell_type": "code",
   "execution_count": 7,
   "metadata": {},
   "outputs": [],
   "source": [
    "titlelist = [n for n in titlelist if n]\n",
    "hreflist = [n for n in hreflist if n]"
   ]
  },
  {
   "cell_type": "code",
   "execution_count": null,
   "metadata": {},
   "outputs": [],
   "source": [
    "# 조회수\n",
    "views = driver.find_elements(By.CSS_SELECTOR, '#metadata-line > span:nth-child(3)')\n",
    "viewlist = []\n",
    "\n",
    "for i in views:\n",
    "    view = i.text\n",
    "    viewlist.append(view)"
   ]
  },
  {
   "cell_type": "code",
   "execution_count": null,
   "metadata": {},
   "outputs": [],
   "source": [
    "# 날짜 추출\n",
    "from time import localtime, strftime\n",
    "\n",
    "dates = driver.find_elements(By.CSS_SELECTOR, '#metadata-line > span:nth-child(4)')\n",
    "\n",
    "# 현재시간\n",
    "extract_date = strftime(\"%Y/%m/%d %H:%M:%S\", localtime())\n",
    "datelist = []\n",
    "\n",
    "for i in dates:\n",
    "    date = i.text\n",
    "    datelist.append(date)"
   ]
  },
  {
   "cell_type": "code",
   "execution_count": null,
   "metadata": {},
   "outputs": [],
   "source": [
    "# 동영상 길이 추출\n",
    "#text\n",
    "lengths = driver.find_elements(By.CSS_SELECTOR, '#overlays > ytd-thumbnail-overlay-time-status-renderer')\n",
    "\n",
    "lengthlist = []\n",
    "\n",
    "for i in lengths:\n",
    "    length = i.text\n",
    "    lengthlist.append(length)"
   ]
  },
  {
   "cell_type": "code",
   "execution_count": null,
   "metadata": {},
   "outputs": [],
   "source": [
    "len(lengthlist)"
   ]
  },
  {
   "cell_type": "code",
   "execution_count": null,
   "metadata": {},
   "outputs": [],
   "source": [
    "lengthlist = [n for n in lengthlist if n]"
   ]
  },
  {
   "cell_type": "code",
   "execution_count": null,
   "metadata": {},
   "outputs": [],
   "source": [
    "#metadata-line > span:nth-child(4)"
   ]
  },
  {
   "cell_type": "code",
   "execution_count": null,
   "metadata": {},
   "outputs": [],
   "source": [
    "#for i in range(6):\n",
    "#    start_url = href[i]\n",
    "#    driver.get(start_url)\n",
    "#\n",
    "#    info = driver.find_element_by_css(By.CSS_SELECTOR, '#info-contents > ytd-video-primary-info-renderer').text.split('\\n')\n",
    "#    title = info[0]\n",
    "#    look = inf"
   ]
  },
  {
   "cell_type": "code",
   "execution_count": null,
   "metadata": {
    "scrolled": false
   },
   "outputs": [],
   "source": [
    "hreflist"
   ]
  },
  {
   "cell_type": "code",
   "execution_count": null,
   "metadata": {},
   "outputs": [],
   "source": [
    "# len(lengthlist)"
   ]
  },
  {
   "cell_type": "code",
   "execution_count": 8,
   "metadata": {},
   "outputs": [
    {
     "data": {
      "text/plain": [
       "192"
      ]
     },
     "execution_count": 8,
     "metadata": {},
     "output_type": "execute_result"
    }
   ],
   "source": [
    "len(titlelist)"
   ]
  },
  {
   "cell_type": "code",
   "execution_count": 9,
   "metadata": {},
   "outputs": [
    {
     "name": "stdout",
     "output_type": "stream",
     "text": [
      "0 번째 6.6천\n",
      "1 번째 1.5만\n",
      "2 번째 1.2만\n",
      "3 번째 2.2만\n",
      "4 번째 2.8만\n",
      "5 번째 1.4만\n",
      "6 번째 910\n",
      "7 번째 9.4천\n",
      "8 번째 1만\n",
      "9 번째 2.6만\n",
      "10 번째 1.3만\n",
      "11 번째 1.4만\n",
      "12 번째 1.3만\n",
      "13 번째 1.4만\n",
      "14 번째 1만\n",
      "15 번째 2.1천\n",
      "16 번째 1.8만\n",
      "17 번째 1.1만\n",
      "18 번째 1.2만\n",
      "19 번째 1.7만\n",
      "20 번째 1만\n",
      "21 번째 1.3만\n",
      "22 번째 1.5만\n",
      "23 번째 1.5만\n",
      "24 번째 1.4만\n",
      "25 번째 2.3천\n",
      "26 번째 1.1만\n",
      "27 번째 2만\n",
      "28 번째 3.8만\n",
      "29 번째 1.6만\n",
      "30 번째 1.8만\n",
      "31 번째 1.1만\n",
      "32 번째 1.6만\n",
      "33 번째 2만\n",
      "34 번째 2.5만\n",
      "35 번째 2.3만\n",
      "36 번째 2.1만\n",
      "37 번째 2.3만\n",
      "38 번째 1.9만\n",
      "39 번째 2.3만\n",
      "40 번째 4.9천\n",
      "41 번째 2.4만\n",
      "42 번째 2.5만\n",
      "43 번째 4만\n",
      "44 번째 1.8만\n",
      "45 번째 1.4만\n",
      "46 번째 1.9만\n",
      "47 번째 1.3만\n",
      "48 번째 1.2만\n",
      "49 번째 2만\n",
      "50 번째 2.6만\n",
      "51 번째 1.7만\n",
      "52 번째 2.3만\n",
      "53 번째 2.2만\n",
      "54 번째 2.1만\n",
      "55 번째 7.8천\n",
      "56 번째 1.3만\n",
      "57 번째 9.4천\n",
      "58 번째 1.8만\n",
      "59 번째 2.6천\n",
      "60 번째 1.9만\n",
      "61 번째 1.7만\n",
      "62 번째 1.9만\n",
      "63 번째 2.6만\n",
      "64 번째 1.7만\n",
      "65 번째 2.5만\n",
      "66 번째 9.8천\n",
      "67 번째 4.1만\n",
      "68 번째 1.6만\n",
      "69 번째 2만\n",
      "70 번째 2.1만\n",
      "71 번째 2.1만\n",
      "72 번째 1.5만\n",
      "73 번째 2.3만\n",
      "74 번째 1.7만\n",
      "75 번째 2.5만\n",
      "76 번째 1.7만\n",
      "77 번째 1.1만\n",
      "78 번째 1.4만\n",
      "79 번째 1.6만\n",
      "80 번째 2.1만\n",
      "81 번째 3.4만\n",
      "82 번째 1.1만\n",
      "83 번째 1.7만\n",
      "84 번째 1.2만\n",
      "85 번째 1.5만\n",
      "86 번째 7.2천\n",
      "87 번째 2만\n",
      "88 번째 1.1만\n",
      "89 번째 1.5만\n",
      "90 번째 2.9만\n",
      "91 번째 1.2만\n",
      "92 번째 1.8만\n",
      "93 번째 2.3만\n",
      "94 번째 1.2만\n",
      "95 번째 1만\n",
      "96 번째 1.2만\n",
      "97 번째 1.8만\n",
      "98 번째 1만\n",
      "99 번째 1만\n",
      "100 번째 1.4만\n",
      "101 번째 1.5만\n",
      "102 번째 3만\n",
      "103 번째 2.3만\n",
      "104 번째 1.1만\n",
      "105 번째 1.3만\n",
      "106 번째 1.7만\n",
      "107 번째 1.8만\n",
      "108 번째 1.7만\n",
      "109 번째 2.7만\n",
      "110 번째 1.4만\n",
      "111 번째 1.6만\n",
      "112 번째 1.2만\n",
      "113 번째 1.5만\n",
      "114 번째 1.5만\n",
      "115 번째 4.7천\n",
      "116 번째 1.8만\n",
      "117 번째 1.5만\n",
      "118 번째 1.5만\n",
      "119 번째 1.9만\n",
      "120 번째 1.8만\n",
      "121 번째 2.1만\n",
      "122 번째 2만\n",
      "123 번째 2.6만\n",
      "124 번째 6.7천\n",
      "125 번째 1.6만\n",
      "126 번째 1.5만\n",
      "127 번째 1.5만\n",
      "128 번째 2.3만\n",
      "129 번째 1.1만\n",
      "130 번째 2.3만\n",
      "131 번째 1.8만\n",
      "132 번째 2.1만\n",
      "133 번째 1.5만\n",
      "134 번째 2.3만\n",
      "135 번째 2.3만\n",
      "136 번째 1.7만\n",
      "137 번째 1.4만\n",
      "138 번째 1.7만\n",
      "139 번째 1만\n",
      "140 번째 1만\n",
      "141 번째 1.8천\n",
      "142 번째 3.2천\n",
      "143 번째 2.8천\n",
      "144 번째 3.4천\n",
      "145 번째 3.2천\n",
      "146 번째 2.8천\n",
      "147 번째 2.7천\n",
      "148 번째 3.1천\n",
      "149 번째 4.3천\n",
      "150 번째 1.5만\n",
      "151 번째 2만\n",
      "152 번째 1.5만\n",
      "153 번째 1.4만\n",
      "154 번째 1.1만\n",
      "155 번째 1.6만\n",
      "156 번째 4.1천\n",
      "157 번째 2.4만\n",
      "158 번째 1.5만\n",
      "159 번째 3.2만\n",
      "160 번째 1.4만\n",
      "161 번째 1.9만\n",
      "162 번째 2.1만\n",
      "163 번째 2.3만\n",
      "164 번째 3.2천\n",
      "165 번째 2.4천\n",
      "166 번째 6.1만\n",
      "167 번째 1.2만\n",
      "168 번째 1.5만\n",
      "169 번째 1.8만\n",
      "170 번째 1.5만\n",
      "171 번째 1.2만\n",
      "172 번째 1.3만\n",
      "173 번째 2.1만\n",
      "174 번째 6.8천\n",
      "175 번째 3.9천\n",
      "176 번째 3.4천\n",
      "177 번째 3.5천\n",
      "178 번째 3.7천\n",
      "179 번째 7.5천\n",
      "180 번째 1.4천\n",
      "181 번째 2.4천\n",
      "182 번째 2.1만\n",
      "183 번째 2만\n",
      "184 번째 1만\n",
      "185 번째 1.2만\n",
      "186 번째 8.1천\n",
      "187 번째 9.2천\n",
      "188 번째 1.3만\n",
      "189 번째 3.1천\n",
      "190 번째 4.4천\n",
      "191 번째 4.4천\n"
     ]
    }
   ],
   "source": [
    "# url 들어가서 정확한 날짜 추출! 장르까지 추출하게 했었는데.. but 장르는 빼도 됩니당 ->>굉장히 오래걸림!\n",
    "# realdatelist = []\n",
    "# commentdatelist = []\n",
    "#genrelist = []\n",
    "likelist = []\n",
    "\n",
    "for i in range(len(hreflist)):\n",
    "    url = hreflist[i]\n",
    "    driver.get(url)\n",
    "    \n",
    "    time.sleep(8)\n",
    "    for j in range(0,1):\n",
    "        driver.find_element(By.TAG_NAME, 'body').send_keys(Keys.PAGE_DOWN)\n",
    "        time.sleep(2)\n",
    "    \n",
    "    likes = driver.find_element(By.XPATH, '//*[@id=\"segmented-like-button\"]/ytd-toggle-button-renderer/yt-button-shape/button/div[2]/span').text\n",
    "    likelist.append(likes)\n",
    "    print(i,\"번째\", likes)\n",
    "    time.sleep(1)\n",
    "    \n",
    "#     except:\n",
    "#         commentdatelist.append"
   ]
  },
  {
   "cell_type": "code",
   "execution_count": 10,
   "metadata": {},
   "outputs": [
    {
     "data": {
      "text/plain": [
       "192"
      ]
     },
     "execution_count": 10,
     "metadata": {},
     "output_type": "execute_result"
    }
   ],
   "source": [
    "len(likelist)"
   ]
  },
  {
   "cell_type": "code",
   "execution_count": 11,
   "metadata": {
    "scrolled": true
   },
   "outputs": [
    {
     "name": "stdout",
     "output_type": "stream",
     "text": [
      "             title                                         href  like\n",
      "0        의미 있는 스킨십  https://www.youtube.com/watch?v=5du_tIa9I4M  6.6천\n",
      "1  T T T T F (SUB)  https://www.youtube.com/watch?v=ke9z1W3l-P0  1.5만\n",
      "2           착해도 X랄  https://www.youtube.com/watch?v=lYS6PKPn4IQ  1.2만\n",
      "3   하커플 이성문제 (SUB)  https://www.youtube.com/watch?v=H0G_lHwbq4k  2.2만\n",
      "4    이별 여행 특 (SUB)  https://www.youtube.com/watch?v=mVK1ihiJ7Ms  2.8만\n"
     ]
    }
   ],
   "source": [
    "# step7. csv 파일에 저장 \n",
    "import pandas as pd\n",
    "\n",
    "#titlelist, hreflist랑 commentlist만 있음! => join 시키기 ~\n",
    "data = {\"title\": titlelist, \"href\":hreflist, \"like\" : likelist }\n",
    "df = pd.DataFrame(data)\n",
    "print(df.head(5))"
   ]
  },
  {
   "cell_type": "code",
   "execution_count": 12,
   "metadata": {},
   "outputs": [],
   "source": [
    "df.to_excel(\"shortpaper_like.xlsx\", encoding = \"utf-8\")"
   ]
  },
  {
   "cell_type": "code",
   "execution_count": null,
   "metadata": {},
   "outputs": [],
   "source": []
  }
 ],
 "metadata": {
  "kernelspec": {
   "display_name": "Python 3 (ipykernel)",
   "language": "python",
   "name": "python3"
  },
  "language_info": {
   "codemirror_mode": {
    "name": "ipython",
    "version": 3
   },
   "file_extension": ".py",
   "mimetype": "text/x-python",
   "name": "python",
   "nbconvert_exporter": "python",
   "pygments_lexer": "ipython3",
   "version": "3.9.12"
  },
  "toc": {
   "base_numbering": 1,
   "nav_menu": {},
   "number_sections": true,
   "sideBar": true,
   "skip_h1_title": false,
   "title_cell": "Table of Contents",
   "title_sidebar": "Contents",
   "toc_cell": false,
   "toc_position": {},
   "toc_section_display": true,
   "toc_window_display": false
  },
  "varInspector": {
   "cols": {
    "lenName": 16,
    "lenType": 16,
    "lenVar": 40
   },
   "kernels_config": {
    "python": {
     "delete_cmd_postfix": "",
     "delete_cmd_prefix": "del ",
     "library": "var_list.py",
     "varRefreshCmd": "print(var_dic_list())"
    },
    "r": {
     "delete_cmd_postfix": ") ",
     "delete_cmd_prefix": "rm(",
     "library": "var_list.r",
     "varRefreshCmd": "cat(var_dic_list()) "
    }
   },
   "types_to_exclude": [
    "module",
    "function",
    "builtin_function_or_method",
    "instance",
    "_Feature"
   ],
   "window_display": false
  }
 },
 "nbformat": 4,
 "nbformat_minor": 4
}
